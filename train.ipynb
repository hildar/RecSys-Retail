{
 "cells": [
  {
   "cell_type": "markdown",
   "id": "839aa2f6-bc19-4c61-b2d7-5bb017b68281",
   "metadata": {
    "tags": []
   },
   "source": [
    "# Two-layer hybrid recommender system in retail\n",
    "\n",
    "**Data:** from [Retail X5 Hero Competition](https://retailhero.ai/c/recommender_system/overview)\n",
    "\n",
    "**Stack:**\n",
    "\n",
    "- 1-st layer: NLP, Implicit, ItemItemRecommender, ALS, sklearn, pandas, numpy, matplotlib\n",
    "- 2-nd layer: CatBoost, LightGBM\n",
    "\n"
   ]
  },
  {
   "cell_type": "markdown",
   "id": "97e3891c-3527-4080-bda0-b5b439f03361",
   "metadata": {},
   "source": [
    "**Stages**:\n",
    "\n",
    "1. Prepare data:  prefiltering\n",
    "2. Marching model (initialize MainRecommender 1-st layer model as baseline)\n",
    "3. Evaluate Top@k Recall\n",
    "4. Ranking model (choose 2-nd layer model)\n",
    "5. Feature engineering for ranking\n",
    "6. Validate on test.csv"
   ]
  },
  {
   "cell_type": "markdown",
   "id": "2d5bbd6d-0f38-40af-b6c9-9bba7366fea9",
   "metadata": {},
   "source": [
    "# 1. Prepare data"
   ]
  },
  {
   "cell_type": "markdown",
   "id": "fb287df0-2645-4156-bf55-5b8f149f9d8e",
   "metadata": {},
   "source": [
    "Import necessary libs:"
   ]
  },
  {
   "cell_type": "code",
   "execution_count": 3,
   "id": "65a42ec4-2a67-448f-9630-4c06ee61fcab",
   "metadata": {},
   "outputs": [],
   "source": [
    "import pandas as pd\n",
    "import numpy as np\n",
    "import matplotlib.pyplot as plt\n",
    "%matplotlib inline\n",
    "\n",
    "# Second layer models\n",
    "from lightgbm import LGBMClassifier\n",
    "from catboost import CatBoost\n",
    "\n",
    "# Functions for prefilter, evaluate and baseline\n",
    "from src.utils import prefilter_items\n",
    "from src.metrics import precision_at_k, recall_at_k\n",
    "from src.recommenders import MainRecommender\n",
    "\n",
    "# Ignore some warnings\n",
    "import warnings\n",
    "warnings.filterwarnings('ignore')"
   ]
  },
  {
   "cell_type": "code",
   "execution_count": 2,
   "id": "fdc11827-3e77-46db-bd90-238553401fa3",
   "metadata": {},
   "outputs": [],
   "source": [
    "data = pd.read_csv('data/retail_train.csv')\n",
    "test = pd.read_csv('data/retail_test.csv')\n",
    "item_features = pd.read_csv('data/product.csv')\n",
    "user_features = pd.read_csv('data/hh_demographic.csv')"
   ]
  },
  {
   "cell_type": "markdown",
   "id": "d5a3c2c1-221e-42aa-b39a-e8d4b3b06357",
   "metadata": {},
   "source": [
    "Let's look at data"
   ]
  },
  {
   "cell_type": "code",
   "execution_count": 5,
   "id": "5fe31841-16ce-4ee5-8277-039e8cf8dd92",
   "metadata": {},
   "outputs": [
    {
     "data": {
      "text/html": [
       "<div>\n",
       "<style scoped>\n",
       "    .dataframe tbody tr th:only-of-type {\n",
       "        vertical-align: middle;\n",
       "    }\n",
       "\n",
       "    .dataframe tbody tr th {\n",
       "        vertical-align: top;\n",
       "    }\n",
       "\n",
       "    .dataframe thead th {\n",
       "        text-align: right;\n",
       "    }\n",
       "</style>\n",
       "<table border=\"1\" class=\"dataframe\">\n",
       "  <thead>\n",
       "    <tr style=\"text-align: right;\">\n",
       "      <th></th>\n",
       "      <th>user_id</th>\n",
       "      <th>basket_id</th>\n",
       "      <th>day</th>\n",
       "      <th>item_id</th>\n",
       "      <th>quantity</th>\n",
       "      <th>sales_value</th>\n",
       "      <th>store_id</th>\n",
       "      <th>retail_disc</th>\n",
       "      <th>trans_time</th>\n",
       "      <th>week_no</th>\n",
       "      <th>coupon_disc</th>\n",
       "      <th>coupon_match_disc</th>\n",
       "    </tr>\n",
       "  </thead>\n",
       "  <tbody>\n",
       "    <tr>\n",
       "      <th>0</th>\n",
       "      <td>2375</td>\n",
       "      <td>26984851472</td>\n",
       "      <td>1</td>\n",
       "      <td>1004906</td>\n",
       "      <td>1</td>\n",
       "      <td>1.39</td>\n",
       "      <td>364</td>\n",
       "      <td>-0.6</td>\n",
       "      <td>1631</td>\n",
       "      <td>1</td>\n",
       "      <td>0.0</td>\n",
       "      <td>0.0</td>\n",
       "    </tr>\n",
       "    <tr>\n",
       "      <th>1</th>\n",
       "      <td>2375</td>\n",
       "      <td>26984851472</td>\n",
       "      <td>1</td>\n",
       "      <td>1033142</td>\n",
       "      <td>1</td>\n",
       "      <td>0.82</td>\n",
       "      <td>364</td>\n",
       "      <td>0.0</td>\n",
       "      <td>1631</td>\n",
       "      <td>1</td>\n",
       "      <td>0.0</td>\n",
       "      <td>0.0</td>\n",
       "    </tr>\n",
       "  </tbody>\n",
       "</table>\n",
       "</div>"
      ],
      "text/plain": [
       "   user_id    basket_id  day  item_id  quantity  sales_value  store_id  \\\n",
       "0     2375  26984851472    1  1004906         1         1.39       364   \n",
       "1     2375  26984851472    1  1033142         1         0.82       364   \n",
       "\n",
       "   retail_disc  trans_time  week_no  coupon_disc  coupon_match_disc  \n",
       "0         -0.6        1631        1          0.0                0.0  \n",
       "1          0.0        1631        1          0.0                0.0  "
      ]
     },
     "execution_count": 5,
     "metadata": {},
     "output_type": "execute_result"
    }
   ],
   "source": [
    "data.head(2)"
   ]
  },
  {
   "cell_type": "code",
   "execution_count": 6,
   "id": "5d476b80-a183-4917-a066-dfcb5fd50459",
   "metadata": {},
   "outputs": [
    {
     "data": {
      "text/html": [
       "<div>\n",
       "<style scoped>\n",
       "    .dataframe tbody tr th:only-of-type {\n",
       "        vertical-align: middle;\n",
       "    }\n",
       "\n",
       "    .dataframe tbody tr th {\n",
       "        vertical-align: top;\n",
       "    }\n",
       "\n",
       "    .dataframe thead th {\n",
       "        text-align: right;\n",
       "    }\n",
       "</style>\n",
       "<table border=\"1\" class=\"dataframe\">\n",
       "  <thead>\n",
       "    <tr style=\"text-align: right;\">\n",
       "      <th></th>\n",
       "      <th>user_id</th>\n",
       "      <th>basket_id</th>\n",
       "      <th>day</th>\n",
       "      <th>item_id</th>\n",
       "      <th>quantity</th>\n",
       "      <th>sales_value</th>\n",
       "      <th>store_id</th>\n",
       "      <th>retail_disc</th>\n",
       "      <th>trans_time</th>\n",
       "      <th>week_no</th>\n",
       "      <th>coupon_disc</th>\n",
       "      <th>coupon_match_disc</th>\n",
       "    </tr>\n",
       "  </thead>\n",
       "  <tbody>\n",
       "    <tr>\n",
       "      <th>0</th>\n",
       "      <td>1340</td>\n",
       "      <td>41652823310</td>\n",
       "      <td>664</td>\n",
       "      <td>912987</td>\n",
       "      <td>1</td>\n",
       "      <td>8.49</td>\n",
       "      <td>446</td>\n",
       "      <td>0.0</td>\n",
       "      <td>52</td>\n",
       "      <td>96</td>\n",
       "      <td>0.0</td>\n",
       "      <td>0.0</td>\n",
       "    </tr>\n",
       "    <tr>\n",
       "      <th>1</th>\n",
       "      <td>588</td>\n",
       "      <td>41652838477</td>\n",
       "      <td>664</td>\n",
       "      <td>1024426</td>\n",
       "      <td>1</td>\n",
       "      <td>6.29</td>\n",
       "      <td>388</td>\n",
       "      <td>0.0</td>\n",
       "      <td>8</td>\n",
       "      <td>96</td>\n",
       "      <td>0.0</td>\n",
       "      <td>0.0</td>\n",
       "    </tr>\n",
       "  </tbody>\n",
       "</table>\n",
       "</div>"
      ],
      "text/plain": [
       "   user_id    basket_id  day  item_id  quantity  sales_value  store_id  \\\n",
       "0     1340  41652823310  664   912987         1         8.49       446   \n",
       "1      588  41652838477  664  1024426         1         6.29       388   \n",
       "\n",
       "   retail_disc  trans_time  week_no  coupon_disc  coupon_match_disc  \n",
       "0          0.0          52       96          0.0                0.0  \n",
       "1          0.0           8       96          0.0                0.0  "
      ]
     },
     "execution_count": 6,
     "metadata": {},
     "output_type": "execute_result"
    }
   ],
   "source": [
    "test.head(2)"
   ]
  },
  {
   "cell_type": "code",
   "execution_count": 7,
   "id": "4e1a81ee-d6d3-46d8-9786-98ac01c8a777",
   "metadata": {},
   "outputs": [
    {
     "data": {
      "text/html": [
       "<div>\n",
       "<style scoped>\n",
       "    .dataframe tbody tr th:only-of-type {\n",
       "        vertical-align: middle;\n",
       "    }\n",
       "\n",
       "    .dataframe tbody tr th {\n",
       "        vertical-align: top;\n",
       "    }\n",
       "\n",
       "    .dataframe thead th {\n",
       "        text-align: right;\n",
       "    }\n",
       "</style>\n",
       "<table border=\"1\" class=\"dataframe\">\n",
       "  <thead>\n",
       "    <tr style=\"text-align: right;\">\n",
       "      <th></th>\n",
       "      <th>PRODUCT_ID</th>\n",
       "      <th>MANUFACTURER</th>\n",
       "      <th>DEPARTMENT</th>\n",
       "      <th>BRAND</th>\n",
       "      <th>COMMODITY_DESC</th>\n",
       "      <th>SUB_COMMODITY_DESC</th>\n",
       "      <th>CURR_SIZE_OF_PRODUCT</th>\n",
       "    </tr>\n",
       "  </thead>\n",
       "  <tbody>\n",
       "    <tr>\n",
       "      <th>0</th>\n",
       "      <td>25671</td>\n",
       "      <td>2</td>\n",
       "      <td>GROCERY</td>\n",
       "      <td>National</td>\n",
       "      <td>FRZN ICE</td>\n",
       "      <td>ICE - CRUSHED/CUBED</td>\n",
       "      <td>22 LB</td>\n",
       "    </tr>\n",
       "    <tr>\n",
       "      <th>1</th>\n",
       "      <td>26081</td>\n",
       "      <td>2</td>\n",
       "      <td>MISC. TRANS.</td>\n",
       "      <td>National</td>\n",
       "      <td>NO COMMODITY DESCRIPTION</td>\n",
       "      <td>NO SUBCOMMODITY DESCRIPTION</td>\n",
       "      <td></td>\n",
       "    </tr>\n",
       "  </tbody>\n",
       "</table>\n",
       "</div>"
      ],
      "text/plain": [
       "   PRODUCT_ID  MANUFACTURER    DEPARTMENT     BRAND            COMMODITY_DESC  \\\n",
       "0       25671             2       GROCERY  National                  FRZN ICE   \n",
       "1       26081             2  MISC. TRANS.  National  NO COMMODITY DESCRIPTION   \n",
       "\n",
       "            SUB_COMMODITY_DESC CURR_SIZE_OF_PRODUCT  \n",
       "0          ICE - CRUSHED/CUBED                22 LB  \n",
       "1  NO SUBCOMMODITY DESCRIPTION                       "
      ]
     },
     "execution_count": 7,
     "metadata": {},
     "output_type": "execute_result"
    }
   ],
   "source": [
    "item_features.head(2)"
   ]
  },
  {
   "cell_type": "code",
   "execution_count": 8,
   "id": "5d81b446-eaf7-495f-9633-ac875d1842c9",
   "metadata": {},
   "outputs": [
    {
     "data": {
      "text/html": [
       "<div>\n",
       "<style scoped>\n",
       "    .dataframe tbody tr th:only-of-type {\n",
       "        vertical-align: middle;\n",
       "    }\n",
       "\n",
       "    .dataframe tbody tr th {\n",
       "        vertical-align: top;\n",
       "    }\n",
       "\n",
       "    .dataframe thead th {\n",
       "        text-align: right;\n",
       "    }\n",
       "</style>\n",
       "<table border=\"1\" class=\"dataframe\">\n",
       "  <thead>\n",
       "    <tr style=\"text-align: right;\">\n",
       "      <th></th>\n",
       "      <th>AGE_DESC</th>\n",
       "      <th>MARITAL_STATUS_CODE</th>\n",
       "      <th>INCOME_DESC</th>\n",
       "      <th>HOMEOWNER_DESC</th>\n",
       "      <th>HH_COMP_DESC</th>\n",
       "      <th>HOUSEHOLD_SIZE_DESC</th>\n",
       "      <th>KID_CATEGORY_DESC</th>\n",
       "      <th>household_key</th>\n",
       "    </tr>\n",
       "  </thead>\n",
       "  <tbody>\n",
       "    <tr>\n",
       "      <th>0</th>\n",
       "      <td>65+</td>\n",
       "      <td>A</td>\n",
       "      <td>35-49K</td>\n",
       "      <td>Homeowner</td>\n",
       "      <td>2 Adults No Kids</td>\n",
       "      <td>2</td>\n",
       "      <td>None/Unknown</td>\n",
       "      <td>1</td>\n",
       "    </tr>\n",
       "    <tr>\n",
       "      <th>1</th>\n",
       "      <td>45-54</td>\n",
       "      <td>A</td>\n",
       "      <td>50-74K</td>\n",
       "      <td>Homeowner</td>\n",
       "      <td>2 Adults No Kids</td>\n",
       "      <td>2</td>\n",
       "      <td>None/Unknown</td>\n",
       "      <td>7</td>\n",
       "    </tr>\n",
       "  </tbody>\n",
       "</table>\n",
       "</div>"
      ],
      "text/plain": [
       "  AGE_DESC MARITAL_STATUS_CODE INCOME_DESC HOMEOWNER_DESC      HH_COMP_DESC  \\\n",
       "0      65+                   A      35-49K      Homeowner  2 Adults No Kids   \n",
       "1    45-54                   A      50-74K      Homeowner  2 Adults No Kids   \n",
       "\n",
       "  HOUSEHOLD_SIZE_DESC KID_CATEGORY_DESC  household_key  \n",
       "0                   2      None/Unknown              1  \n",
       "1                   2      None/Unknown              7  "
      ]
     },
     "execution_count": 8,
     "metadata": {},
     "output_type": "execute_result"
    }
   ],
   "source": [
    "user_features.head(2)"
   ]
  },
  {
   "cell_type": "code",
   "execution_count": 27,
   "id": "27441053-92db-46c8-ae92-b6946684099a",
   "metadata": {},
   "outputs": [
    {
     "name": "stdout",
     "output_type": "stream",
     "text": [
      "<class 'pandas.core.frame.DataFrame'>\n",
      "RangeIndex: 2396804 entries, 0 to 2396803\n",
      "Data columns (total 12 columns):\n",
      " #   Column             Dtype  \n",
      "---  ------             -----  \n",
      " 0   user_id            int64  \n",
      " 1   basket_id          int64  \n",
      " 2   day                int64  \n",
      " 3   item_id            int64  \n",
      " 4   quantity           int64  \n",
      " 5   sales_value        float64\n",
      " 6   store_id           int64  \n",
      " 7   retail_disc        float64\n",
      " 8   trans_time         int64  \n",
      " 9   week_no            int64  \n",
      " 10  coupon_disc        float64\n",
      " 11  coupon_match_disc  float64\n",
      "dtypes: float64(4), int64(8)\n",
      "memory usage: 219.4 MB\n"
     ]
    }
   ],
   "source": [
    "data.info()"
   ]
  },
  {
   "cell_type": "code",
   "execution_count": 26,
   "id": "746f0640-46f3-4611-8cfa-e48e26617c67",
   "metadata": {},
   "outputs": [
    {
     "name": "stdout",
     "output_type": "stream",
     "text": [
      "<class 'pandas.core.frame.DataFrame'>\n",
      "RangeIndex: 88734 entries, 0 to 88733\n",
      "Data columns (total 12 columns):\n",
      " #   Column             Non-Null Count  Dtype  \n",
      "---  ------             --------------  -----  \n",
      " 0   user_id            88734 non-null  int64  \n",
      " 1   basket_id          88734 non-null  int64  \n",
      " 2   day                88734 non-null  int64  \n",
      " 3   item_id            88734 non-null  int64  \n",
      " 4   quantity           88734 non-null  int64  \n",
      " 5   sales_value        88734 non-null  float64\n",
      " 6   store_id           88734 non-null  int64  \n",
      " 7   retail_disc        88734 non-null  float64\n",
      " 8   trans_time         88734 non-null  int64  \n",
      " 9   week_no            88734 non-null  int64  \n",
      " 10  coupon_disc        88734 non-null  float64\n",
      " 11  coupon_match_disc  88734 non-null  float64\n",
      "dtypes: float64(4), int64(8)\n",
      "memory usage: 8.1 MB\n"
     ]
    }
   ],
   "source": [
    "test.info()"
   ]
  },
  {
   "cell_type": "code",
   "execution_count": 28,
   "id": "fc9f8853-81bb-4276-9d0d-61ebf32bf099",
   "metadata": {},
   "outputs": [
    {
     "name": "stdout",
     "output_type": "stream",
     "text": [
      "<class 'pandas.core.frame.DataFrame'>\n",
      "RangeIndex: 92353 entries, 0 to 92352\n",
      "Data columns (total 7 columns):\n",
      " #   Column                Non-Null Count  Dtype \n",
      "---  ------                --------------  ----- \n",
      " 0   item_id               92353 non-null  int64 \n",
      " 1   manufacturer          92353 non-null  int64 \n",
      " 2   department            92353 non-null  object\n",
      " 3   brand                 92353 non-null  object\n",
      " 4   commodity_desc        92353 non-null  object\n",
      " 5   sub_commodity_desc    92353 non-null  object\n",
      " 6   curr_size_of_product  92353 non-null  object\n",
      "dtypes: int64(2), object(5)\n",
      "memory usage: 4.9+ MB\n"
     ]
    }
   ],
   "source": [
    "item_features.info()"
   ]
  },
  {
   "cell_type": "code",
   "execution_count": 29,
   "id": "b8c79870-84f2-4470-925d-e0686fe678d1",
   "metadata": {},
   "outputs": [
    {
     "name": "stdout",
     "output_type": "stream",
     "text": [
      "<class 'pandas.core.frame.DataFrame'>\n",
      "RangeIndex: 801 entries, 0 to 800\n",
      "Data columns (total 8 columns):\n",
      " #   Column               Non-Null Count  Dtype \n",
      "---  ------               --------------  ----- \n",
      " 0   age_desc             801 non-null    object\n",
      " 1   marital_status_code  801 non-null    object\n",
      " 2   income_desc          801 non-null    object\n",
      " 3   homeowner_desc       801 non-null    object\n",
      " 4   hh_comp_desc         801 non-null    object\n",
      " 5   household_size_desc  801 non-null    object\n",
      " 6   kid_category_desc    801 non-null    object\n",
      " 7   user_id              801 non-null    int64 \n",
      "dtypes: int64(1), object(7)\n",
      "memory usage: 50.2+ KB\n"
     ]
    }
   ],
   "source": [
    "user_features.info()"
   ]
  },
  {
   "cell_type": "code",
   "execution_count": 20,
   "id": "8c8114aa-8ee5-493a-ac16-e9439c8df5c1",
   "metadata": {},
   "outputs": [],
   "source": [
    "def print_stats_data(df_data, name_df):\n",
    "    print(f'{name_df}:')\n",
    "    print(f\"Shape: {df_data.shape} Users: {df_data['user_id'].nunique()} Items: {df_data['item_id'].nunique()}\\n\")"
   ]
  },
  {
   "cell_type": "code",
   "execution_count": 22,
   "id": "904cadca-4fc8-4635-879a-73bf240222fb",
   "metadata": {},
   "outputs": [
    {
     "name": "stdout",
     "output_type": "stream",
     "text": [
      "data:\n",
      "Shape: (2396804, 12) Users: 2499 Items: 89051\n",
      "\n",
      "test:\n",
      "Shape: (88734, 12) Users: 1885 Items: 20497\n",
      "\n"
     ]
    }
   ],
   "source": [
    "print_stats_data(data, 'data')\n",
    "print_stats_data(test, 'test')"
   ]
  },
  {
   "cell_type": "markdown",
   "id": "871aacb5-63cc-472d-91f3-f8827b70b990",
   "metadata": {},
   "source": [
    "Prepare columns feature datasets"
   ]
  },
  {
   "cell_type": "code",
   "execution_count": 12,
   "id": "0193a79a-a569-4ca6-8092-d5e29324bcff",
   "metadata": {},
   "outputs": [],
   "source": [
    "# column processing\n",
    "item_features.columns = [col.lower() for col in item_features.columns]\n",
    "user_features.columns = [col.lower() for col in user_features.columns]\n",
    "\n",
    "item_features.rename(columns={'product_id': 'item_id'}, inplace=True)\n",
    "user_features.rename(columns={'household_key': 'user_id' }, inplace=True)"
   ]
  },
  {
   "cell_type": "markdown",
   "id": "027b555e-7c2e-4819-8d97-acb67fc7ac2e",
   "metadata": {},
   "source": [
    "### Split dataset for train, eval and test"
   ]
  },
  {
   "cell_type": "code",
   "execution_count": 17,
   "id": "02a5cae4-4dc8-4ad8-8070-719430abeb81",
   "metadata": {},
   "outputs": [],
   "source": [
    "# timeline for train:  -- old purchases -- | -- 6 weeks -- \n",
    "\n",
    "VAL_MATCHER_WEEKS = 6"
   ]
  },
  {
   "cell_type": "code",
   "execution_count": 23,
   "id": "028f2fc1-6f71-48de-9204-54542658202b",
   "metadata": {},
   "outputs": [],
   "source": [
    "# data for train 1-st layer model (matching)     -- old purchases --\n",
    "data_train_matcher = data[data['week_no'] < data['week_no'].max() - VAL_MATCHER_WEEKS]\n",
    "\n",
    "# data for validate 1-st layer model (matching)  -- 6 weeks --\n",
    "data_val_matcher = data[data['week_no'] >= data['week_no'].max() - VAL_MATCHER_WEEKS]\n",
    "\n",
    "# data for train 2-nd layer model (ranking)      -- 6 weeks --\n",
    "data_train_ranker = data_val_matcher.copy()\n",
    "\n",
    "# data for validate 2-nd layer model (ranking)   -- 3 weeks (test data) --\n",
    "data_val_ranker = test.copy()"
   ]
  },
  {
   "cell_type": "code",
   "execution_count": 24,
   "id": "33b8ee44-82d0-46c6-98dc-5ca80dfcbf93",
   "metadata": {},
   "outputs": [
    {
     "name": "stdout",
     "output_type": "stream",
     "text": [
      "train_matcher:\n",
      "Shape: (2193515, 12) Users: 2499 Items: 85334\n",
      "\n",
      "val_matcher:\n",
      "Shape: (203289, 12) Users: 2197 Items: 30040\n",
      "\n",
      "train_ranker:\n",
      "Shape: (203289, 12) Users: 2197 Items: 30040\n",
      "\n",
      "val_ranker:\n",
      "Shape: (88734, 12) Users: 1885 Items: 20497\n",
      "\n"
     ]
    }
   ],
   "source": [
    "print_stats_data(data_train_matcher,'train_matcher')\n",
    "print_stats_data(data_val_matcher,'val_matcher')\n",
    "print_stats_data(data_train_ranker,'train_ranker')\n",
    "print_stats_data(data_val_ranker,'val_ranker')"
   ]
  },
  {
   "cell_type": "markdown",
   "id": "12a849e0-63f9-4a10-91a1-6944b5202d80",
   "metadata": {},
   "source": [
    "Here is dispertion of users and items. In this case we won't use \"cold-start\" and fix it below. But for \"cold-start\" may use top popular items as base case from baseline."
   ]
  },
  {
   "cell_type": "markdown",
   "id": "4e67e507-eda4-45a4-ba11-97628109f540",
   "metadata": {
    "tags": []
   },
   "source": [
    "### Prefilter data_train_matcher"
   ]
  },
  {
   "cell_type": "markdown",
   "id": "d01508b0-35b4-48c6-84b2-0459b27a5932",
   "metadata": {},
   "source": [
    "For begin we will take 5000 popular items. But later we try select better decision."
   ]
  },
  {
   "cell_type": "code",
   "execution_count": 30,
   "id": "467a5421-d54b-4bdd-9c35-fb89e47996d4",
   "metadata": {},
   "outputs": [
    {
     "name": "stdout",
     "output_type": "stream",
     "text": [
      "Decreased # items from 85334 to 5001\n"
     ]
    }
   ],
   "source": [
    "n_items_before = data_train_matcher['item_id'].nunique()\n",
    "\n",
    "data_train_matcher = prefilter_items(data_train_matcher, item_features=item_features, take_n_popular=5000)\n",
    "\n",
    "n_items_after = data_train_matcher['item_id'].nunique()\n",
    "print('Decreased # items from {} to {}'.format(n_items_before, n_items_after))"
   ]
  },
  {
   "cell_type": "markdown",
   "id": "63f853f4-9949-4de9-8ec8-902277632f8e",
   "metadata": {},
   "source": [
    "### Make \"cold-start\" to \"warm-start\""
   ]
  },
  {
   "cell_type": "code",
   "execution_count": 31,
   "id": "72cb8d4e-8fd3-4557-91ef-7a277428c20c",
   "metadata": {},
   "outputs": [
    {
     "name": "stdout",
     "output_type": "stream",
     "text": [
      "train_matcher:\n",
      "Shape: (896610, 13) Users: 2496 Items: 5001\n",
      "\n",
      "val_matcher:\n",
      "Shape: (203235, 12) Users: 2194 Items: 30037\n",
      "\n",
      "train_ranker:\n",
      "Shape: (203235, 12) Users: 2194 Items: 30037\n",
      "\n",
      "val_ranker:\n",
      "Shape: (88665, 12) Users: 1883 Items: 20492\n",
      "\n"
     ]
    }
   ],
   "source": [
    "# ищем общих пользователей\n",
    "common_users = data_train_matcher.user_id.values\n",
    "\n",
    "data_val_matcher = data_val_matcher[data_val_matcher.user_id.isin(common_users)]\n",
    "data_train_ranker = data_train_ranker[data_train_ranker.user_id.isin(common_users)]\n",
    "data_val_ranker = data_val_ranker[data_val_ranker.user_id.isin(common_users)]\n",
    "\n",
    "print_stats_data(data_train_matcher,'train_matcher')\n",
    "print_stats_data(data_val_matcher,'val_matcher')\n",
    "print_stats_data(data_train_ranker,'train_ranker')\n",
    "print_stats_data(data_val_ranker,'val_ranker')"
   ]
  },
  {
   "cell_type": "markdown",
   "id": "ce5b3ae9-57fc-4181-9a61-e1890c4ae20e",
   "metadata": {},
   "source": [
    "# 2. Initialize MainRecommender"
   ]
  },
  {
   "cell_type": "code",
   "execution_count": 32,
   "id": "96286e65-9c60-4134-aa29-b80871bb769d",
   "metadata": {},
   "outputs": [
    {
     "name": "stderr",
     "output_type": "stream",
     "text": [
      "WARNING:root:Intel MKL BLAS detected. Its highly recommend to set the environment variable 'export MKL_NUM_THREADS=1' to disable its internal multithreading\n"
     ]
    },
    {
     "data": {
      "application/vnd.jupyter.widget-view+json": {
       "model_id": "ee785ed9348b4f838fe04a7d86ac0516",
       "version_major": 2,
       "version_minor": 0
      },
      "text/plain": [
       "  0%|          | 0/15 [00:00<?, ?it/s]"
      ]
     },
     "metadata": {},
     "output_type": "display_data"
    },
    {
     "data": {
      "application/vnd.jupyter.widget-view+json": {
       "model_id": "1d5aa6d81d2c4d2e818401822727f925",
       "version_major": 2,
       "version_minor": 0
      },
      "text/plain": [
       "  0%|          | 0/5001 [00:00<?, ?it/s]"
      ]
     },
     "metadata": {},
     "output_type": "display_data"
    }
   ],
   "source": [
    "recommender = MainRecommender(data_train_matcher)"
   ]
  },
  {
   "cell_type": "markdown",
   "id": "e24b467a-8c89-4788-8a6c-cca64b2cccd9",
   "metadata": {},
   "source": [
    "# 3. Evaluate Top@k Recall"
   ]
  },
  {
   "cell_type": "code",
   "execution_count": 38,
   "id": "d44bea25-b7bb-4495-992a-61dbc526f71d",
   "metadata": {},
   "outputs": [
    {
     "data": {
      "text/html": [
       "<div>\n",
       "<style scoped>\n",
       "    .dataframe tbody tr th:only-of-type {\n",
       "        vertical-align: middle;\n",
       "    }\n",
       "\n",
       "    .dataframe tbody tr th {\n",
       "        vertical-align: top;\n",
       "    }\n",
       "\n",
       "    .dataframe thead th {\n",
       "        text-align: right;\n",
       "    }\n",
       "</style>\n",
       "<table border=\"1\" class=\"dataframe\">\n",
       "  <thead>\n",
       "    <tr style=\"text-align: right;\">\n",
       "      <th></th>\n",
       "      <th>user_id</th>\n",
       "      <th>actual</th>\n",
       "    </tr>\n",
       "  </thead>\n",
       "  <tbody>\n",
       "    <tr>\n",
       "      <th>0</th>\n",
       "      <td>1</td>\n",
       "      <td>[829323, 835108, 836423, 851515, 875240, 87737...</td>\n",
       "    </tr>\n",
       "    <tr>\n",
       "      <th>1</th>\n",
       "      <td>2</td>\n",
       "      <td>[895388, 8357614, 12301772, 821083, 828106, 83...</td>\n",
       "    </tr>\n",
       "  </tbody>\n",
       "</table>\n",
       "</div>"
      ],
      "text/plain": [
       "   user_id                                             actual\n",
       "0        1  [829323, 835108, 836423, 851515, 875240, 87737...\n",
       "1        2  [895388, 8357614, 12301772, 821083, 828106, 83..."
      ]
     },
     "execution_count": 38,
     "metadata": {},
     "output_type": "execute_result"
    }
   ],
   "source": [
    "result_eval_matcher = data_val_matcher.groupby('user_id')['item_id'].unique().reset_index()\n",
    "result_eval_matcher.columns=['user_id', 'actual']\n",
    "result_eval_matcher.head(2)"
   ]
  },
  {
   "cell_type": "code",
   "execution_count": 39,
   "id": "f407a181-8b6f-4352-bc63-f6ffdca53c2f",
   "metadata": {},
   "outputs": [],
   "source": [
    "# N = Number recommendations\n",
    "N_PREDICT = 50 "
   ]
  },
  {
   "cell_type": "markdown",
   "id": "085f00ca-3178-494a-b576-6e0713695313",
   "metadata": {},
   "source": [
    "### Get recommendations"
   ]
  },
  {
   "cell_type": "code",
   "execution_count": 47,
   "id": "f63fa292-258d-4bfa-acb2-38e787d17b23",
   "metadata": {},
   "outputs": [
    {
     "name": "stdout",
     "output_type": "stream",
     "text": [
      "CPU times: user 1min 20s, sys: 629 ms, total: 1min 21s\n",
      "Wall time: 24.9 s\n"
     ]
    }
   ],
   "source": [
    "%%time\n",
    "\n",
    "result_eval_matcher['own_rec'] = result_eval_matcher['user_id'].\\\n",
    "                                    apply(lambda x: recommender.get_own_recommendations(x, N=N_PREDICT))\n",
    "\n",
    "result_eval_matcher['sim_item_rec'] = result_eval_matcher['user_id'].\\\n",
    "                                    apply(lambda x: recommender.get_similar_items_recommendation(x, N=N_PREDICT))\n",
    "\n",
    "result_eval_matcher['als_rec'] = result_eval_matcher['user_id'].\\\n",
    "                                    apply(lambda x: recommender.get_als_recommendations(x, N=N_PREDICT))\n",
    "\n",
    "result_eval_matcher['top_rec'] = result_eval_matcher['user_id'].\\\n",
    "                                    apply(lambda x: recommender.overall_top_purchases[:N_PREDICT])"
   ]
  },
  {
   "cell_type": "code",
   "execution_count": 48,
   "id": "bca79986-f976-4aac-b03b-434a441413c5",
   "metadata": {},
   "outputs": [
    {
     "data": {
      "text/html": [
       "<div>\n",
       "<style scoped>\n",
       "    .dataframe tbody tr th:only-of-type {\n",
       "        vertical-align: middle;\n",
       "    }\n",
       "\n",
       "    .dataframe tbody tr th {\n",
       "        vertical-align: top;\n",
       "    }\n",
       "\n",
       "    .dataframe thead th {\n",
       "        text-align: right;\n",
       "    }\n",
       "</style>\n",
       "<table border=\"1\" class=\"dataframe\">\n",
       "  <thead>\n",
       "    <tr style=\"text-align: right;\">\n",
       "      <th></th>\n",
       "      <th>user_id</th>\n",
       "      <th>actual</th>\n",
       "      <th>own_rec</th>\n",
       "      <th>sim_item_rec</th>\n",
       "      <th>als_rec</th>\n",
       "      <th>top_rec</th>\n",
       "    </tr>\n",
       "  </thead>\n",
       "  <tbody>\n",
       "    <tr>\n",
       "      <th>0</th>\n",
       "      <td>1</td>\n",
       "      <td>[829323, 835108, 836423, 851515, 875240, 87737...</td>\n",
       "      <td>[856942, 9297615, 5577022, 877391, 9655212, 88...</td>\n",
       "      <td>[824758, 1007512, 9803207, 9297615, 888210, 10...</td>\n",
       "      <td>[1029272, 1047619, 909497, 1119942, 1088387, 9...</td>\n",
       "      <td>[1029743, 1106523, 5569230, 916122, 844179, 11...</td>\n",
       "    </tr>\n",
       "    <tr>\n",
       "      <th>1</th>\n",
       "      <td>2</td>\n",
       "      <td>[895388, 8357614, 12301772, 821083, 828106, 83...</td>\n",
       "      <td>[1103898, 911974, 1076580, 5567582, 1056620, 9...</td>\n",
       "      <td>[1044078, 8090509, 5569845, 985999, 819978, 88...</td>\n",
       "      <td>[5569230, 1003487, 934399, 866211, 1017369, 83...</td>\n",
       "      <td>[1029743, 1106523, 5569230, 916122, 844179, 11...</td>\n",
       "    </tr>\n",
       "  </tbody>\n",
       "</table>\n",
       "</div>"
      ],
      "text/plain": [
       "   user_id                                             actual  \\\n",
       "0        1  [829323, 835108, 836423, 851515, 875240, 87737...   \n",
       "1        2  [895388, 8357614, 12301772, 821083, 828106, 83...   \n",
       "\n",
       "                                             own_rec  \\\n",
       "0  [856942, 9297615, 5577022, 877391, 9655212, 88...   \n",
       "1  [1103898, 911974, 1076580, 5567582, 1056620, 9...   \n",
       "\n",
       "                                        sim_item_rec  \\\n",
       "0  [824758, 1007512, 9803207, 9297615, 888210, 10...   \n",
       "1  [1044078, 8090509, 5569845, 985999, 819978, 88...   \n",
       "\n",
       "                                             als_rec  \\\n",
       "0  [1029272, 1047619, 909497, 1119942, 1088387, 9...   \n",
       "1  [5569230, 1003487, 934399, 866211, 1017369, 83...   \n",
       "\n",
       "                                             top_rec  \n",
       "0  [1029743, 1106523, 5569230, 916122, 844179, 11...  \n",
       "1  [1029743, 1106523, 5569230, 916122, 844179, 11...  "
      ]
     },
     "execution_count": 48,
     "metadata": {},
     "output_type": "execute_result"
    }
   ],
   "source": [
    "result_eval_matcher.head(2)"
   ]
  },
  {
   "cell_type": "markdown",
   "id": "ee4c48bd-2c54-44e3-881e-e01f9e7d5b22",
   "metadata": {},
   "source": [
    "### Make functions for evaluate"
   ]
  },
  {
   "cell_type": "code",
   "execution_count": 119,
   "id": "eb40f63d-1765-4f88-be22-062220712580",
   "metadata": {},
   "outputs": [],
   "source": [
    "def calc_recall(df_data, top_k=50):\n",
    "    for col_name in df_data.columns[2:]:\n",
    "        yield col_name, df_data.apply(lambda row: recall_at_k(row[col_name], row['actual'], k=top_k), axis=1).mean()"
   ]
  },
  {
   "cell_type": "code",
   "execution_count": 120,
   "id": "8719f54d-c83e-4ed3-8ce2-4e7f0ed8a727",
   "metadata": {},
   "outputs": [],
   "source": [
    "def calc_precision(df_data, top_k=5):\n",
    "    for col_name in df_data.columns[2:]:\n",
    "        yield col_name, df_data.\\\n",
    "                            apply(lambda row: precision_at_k(row[col_name], row['actual'], k=top_k), axis=1).mean()"
   ]
  },
  {
   "cell_type": "code",
   "execution_count": 53,
   "id": "867aa9e8-c304-43d0-be88-19959662ddad",
   "metadata": {},
   "outputs": [],
   "source": [
    "TOPK_RECALL = 50"
   ]
  },
  {
   "cell_type": "code",
   "execution_count": 54,
   "id": "6054b683-536d-417d-96bc-8407ece9ae19",
   "metadata": {},
   "outputs": [
    {
     "data": {
      "text/plain": [
       "[('own_rec', 0.06350702403477008),\n",
       " ('als_rec', 0.04667510484099378),\n",
       " ('top_rec', 0.04278333356137788),\n",
       " ('sim_item_rec', 0.03344263737360129)]"
      ]
     },
     "execution_count": 54,
     "metadata": {},
     "output_type": "execute_result"
    }
   ],
   "source": [
    "sorted(calc_recall(result_eval_matcher, TOPK_RECALL), key=lambda x: x[1], reverse=True)"
   ]
  },
  {
   "cell_type": "markdown",
   "id": "293851dc-7dfc-4eb9-987f-21823190ad74",
   "metadata": {},
   "source": [
    "'own_rec' show best result therefore we use this one for find better k for Recall."
   ]
  },
  {
   "cell_type": "markdown",
   "id": "48a017c1-a8cf-44be-9685-6ac29a293ebb",
   "metadata": {},
   "source": [
    "### Select optimal k for recall"
   ]
  },
  {
   "cell_type": "code",
   "execution_count": 55,
   "id": "567d5982-f1dd-43db-a5ea-8bb89080b0c3",
   "metadata": {},
   "outputs": [],
   "source": [
    "top_k_recs = [20, 50, 100, 200, 500, 750, 1000, 1500, 2000]"
   ]
  },
  {
   "cell_type": "code",
   "execution_count": 56,
   "id": "d7d0c274-dcff-466f-bbea-6844c048aa3a",
   "metadata": {},
   "outputs": [
    {
     "name": "stdout",
     "output_type": "stream",
     "text": [
      "CPU times: user 50 s, sys: 267 ms, total: 50.2 s\n",
      "Wall time: 50.4 s\n"
     ]
    }
   ],
   "source": [
    "%%time\n",
    "\n",
    "for k in top_k_recs:\n",
    "    name_col = 'own_rec_' + str(k)\n",
    "    result_eval_matcher[name_col] = result_eval_matcher['user_id'].\\\n",
    "                                        apply(lambda x: recommender.get_own_recommendations(x, N = k))"
   ]
  },
  {
   "cell_type": "code",
   "execution_count": 57,
   "id": "f15c40e0-58c3-44b4-bfef-50946404b2fc",
   "metadata": {},
   "outputs": [
    {
     "data": {
      "text/html": [
       "<div>\n",
       "<style scoped>\n",
       "    .dataframe tbody tr th:only-of-type {\n",
       "        vertical-align: middle;\n",
       "    }\n",
       "\n",
       "    .dataframe tbody tr th {\n",
       "        vertical-align: top;\n",
       "    }\n",
       "\n",
       "    .dataframe thead th {\n",
       "        text-align: right;\n",
       "    }\n",
       "</style>\n",
       "<table border=\"1\" class=\"dataframe\">\n",
       "  <thead>\n",
       "    <tr style=\"text-align: right;\">\n",
       "      <th></th>\n",
       "      <th>user_id</th>\n",
       "      <th>actual</th>\n",
       "      <th>own_rec</th>\n",
       "      <th>sim_item_rec</th>\n",
       "      <th>als_rec</th>\n",
       "      <th>top_rec</th>\n",
       "      <th>own_rec_20</th>\n",
       "      <th>own_rec_50</th>\n",
       "      <th>own_rec_100</th>\n",
       "      <th>own_rec_200</th>\n",
       "      <th>own_rec_500</th>\n",
       "      <th>own_rec_750</th>\n",
       "      <th>own_rec_1000</th>\n",
       "      <th>own_rec_1500</th>\n",
       "      <th>own_rec_2000</th>\n",
       "    </tr>\n",
       "  </thead>\n",
       "  <tbody>\n",
       "    <tr>\n",
       "      <th>0</th>\n",
       "      <td>1</td>\n",
       "      <td>[829323, 835108, 836423, 851515, 875240, 87737...</td>\n",
       "      <td>[856942, 9297615, 5577022, 877391, 9655212, 88...</td>\n",
       "      <td>[824758, 1007512, 9803207, 9297615, 888210, 10...</td>\n",
       "      <td>[1029272, 1047619, 909497, 1119942, 1088387, 9...</td>\n",
       "      <td>[1029743, 1106523, 5569230, 916122, 844179, 11...</td>\n",
       "      <td>[856942, 9297615, 5577022, 877391, 9655212, 88...</td>\n",
       "      <td>[856942, 9297615, 5577022, 877391, 9655212, 88...</td>\n",
       "      <td>[856942, 9297615, 5577022, 877391, 9655212, 88...</td>\n",
       "      <td>[856942, 9297615, 5577022, 877391, 9655212, 88...</td>\n",
       "      <td>[856942, 9297615, 5577022, 877391, 9655212, 88...</td>\n",
       "      <td>[856942, 9297615, 5577022, 877391, 9655212, 88...</td>\n",
       "      <td>[856942, 9297615, 5577022, 877391, 9655212, 88...</td>\n",
       "      <td>[856942, 9297615, 5577022, 877391, 9655212, 88...</td>\n",
       "      <td>[856942, 9297615, 5577022, 877391, 9655212, 88...</td>\n",
       "    </tr>\n",
       "    <tr>\n",
       "      <th>1</th>\n",
       "      <td>2</td>\n",
       "      <td>[895388, 8357614, 12301772, 821083, 828106, 83...</td>\n",
       "      <td>[1103898, 911974, 1076580, 5567582, 1056620, 9...</td>\n",
       "      <td>[1044078, 8090509, 5569845, 985999, 819978, 88...</td>\n",
       "      <td>[5569230, 1003487, 934399, 866211, 1017369, 83...</td>\n",
       "      <td>[1029743, 1106523, 5569230, 916122, 844179, 11...</td>\n",
       "      <td>[1103898, 911974, 1076580, 5567582, 1056620, 9...</td>\n",
       "      <td>[1103898, 911974, 1076580, 5567582, 1056620, 9...</td>\n",
       "      <td>[1103898, 911974, 1076580, 5567582, 1056620, 9...</td>\n",
       "      <td>[1103898, 911974, 1076580, 5567582, 1056620, 9...</td>\n",
       "      <td>[1103898, 911974, 1076580, 5567582, 1056620, 9...</td>\n",
       "      <td>[1103898, 911974, 1076580, 5567582, 1056620, 9...</td>\n",
       "      <td>[1103898, 911974, 1076580, 5567582, 1056620, 9...</td>\n",
       "      <td>[1103898, 911974, 1076580, 5567582, 1056620, 9...</td>\n",
       "      <td>[1103898, 911974, 1076580, 5567582, 1056620, 9...</td>\n",
       "    </tr>\n",
       "  </tbody>\n",
       "</table>\n",
       "</div>"
      ],
      "text/plain": [
       "   user_id                                             actual  \\\n",
       "0        1  [829323, 835108, 836423, 851515, 875240, 87737...   \n",
       "1        2  [895388, 8357614, 12301772, 821083, 828106, 83...   \n",
       "\n",
       "                                             own_rec  \\\n",
       "0  [856942, 9297615, 5577022, 877391, 9655212, 88...   \n",
       "1  [1103898, 911974, 1076580, 5567582, 1056620, 9...   \n",
       "\n",
       "                                        sim_item_rec  \\\n",
       "0  [824758, 1007512, 9803207, 9297615, 888210, 10...   \n",
       "1  [1044078, 8090509, 5569845, 985999, 819978, 88...   \n",
       "\n",
       "                                             als_rec  \\\n",
       "0  [1029272, 1047619, 909497, 1119942, 1088387, 9...   \n",
       "1  [5569230, 1003487, 934399, 866211, 1017369, 83...   \n",
       "\n",
       "                                             top_rec  \\\n",
       "0  [1029743, 1106523, 5569230, 916122, 844179, 11...   \n",
       "1  [1029743, 1106523, 5569230, 916122, 844179, 11...   \n",
       "\n",
       "                                          own_rec_20  \\\n",
       "0  [856942, 9297615, 5577022, 877391, 9655212, 88...   \n",
       "1  [1103898, 911974, 1076580, 5567582, 1056620, 9...   \n",
       "\n",
       "                                          own_rec_50  \\\n",
       "0  [856942, 9297615, 5577022, 877391, 9655212, 88...   \n",
       "1  [1103898, 911974, 1076580, 5567582, 1056620, 9...   \n",
       "\n",
       "                                         own_rec_100  \\\n",
       "0  [856942, 9297615, 5577022, 877391, 9655212, 88...   \n",
       "1  [1103898, 911974, 1076580, 5567582, 1056620, 9...   \n",
       "\n",
       "                                         own_rec_200  \\\n",
       "0  [856942, 9297615, 5577022, 877391, 9655212, 88...   \n",
       "1  [1103898, 911974, 1076580, 5567582, 1056620, 9...   \n",
       "\n",
       "                                         own_rec_500  \\\n",
       "0  [856942, 9297615, 5577022, 877391, 9655212, 88...   \n",
       "1  [1103898, 911974, 1076580, 5567582, 1056620, 9...   \n",
       "\n",
       "                                         own_rec_750  \\\n",
       "0  [856942, 9297615, 5577022, 877391, 9655212, 88...   \n",
       "1  [1103898, 911974, 1076580, 5567582, 1056620, 9...   \n",
       "\n",
       "                                        own_rec_1000  \\\n",
       "0  [856942, 9297615, 5577022, 877391, 9655212, 88...   \n",
       "1  [1103898, 911974, 1076580, 5567582, 1056620, 9...   \n",
       "\n",
       "                                        own_rec_1500  \\\n",
       "0  [856942, 9297615, 5577022, 877391, 9655212, 88...   \n",
       "1  [1103898, 911974, 1076580, 5567582, 1056620, 9...   \n",
       "\n",
       "                                        own_rec_2000  \n",
       "0  [856942, 9297615, 5577022, 877391, 9655212, 88...  \n",
       "1  [1103898, 911974, 1076580, 5567582, 1056620, 9...  "
      ]
     },
     "execution_count": 57,
     "metadata": {},
     "output_type": "execute_result"
    }
   ],
   "source": [
    "result_eval_matcher.head(2)"
   ]
  },
  {
   "cell_type": "markdown",
   "id": "b2c8bd02-07a5-462f-9206-b84fbc046b46",
   "metadata": {},
   "source": [
    "Calculate Recall for each k:"
   ]
  },
  {
   "cell_type": "code",
   "execution_count": 58,
   "id": "c1db57f5-3c88-41b7-805e-d4d49467293c",
   "metadata": {},
   "outputs": [
    {
     "data": {
      "text/plain": [
       "[('own_rec_2000', 0.2586199819246717),\n",
       " ('own_rec_1500', 0.24053649681401984),\n",
       " ('own_rec_1000', 0.21820203472421704),\n",
       " ('own_rec_750', 0.20241935084571852),\n",
       " ('own_rec_500', 0.18331108194049558),\n",
       " ('own_rec_200', 0.13529131433084954),\n",
       " ('own_rec_100', 0.09440018503287836),\n",
       " ('own_rec_50', 0.06350702403477008),\n",
       " ('own_rec_20', 0.03680745510211503)]"
      ]
     },
     "execution_count": 58,
     "metadata": {},
     "output_type": "execute_result"
    }
   ],
   "source": [
    "own_recalls = []\n",
    "\n",
    "for k in top_k_recs:\n",
    "    name_col = 'own_rec_' + str(k)\n",
    "    own_recalls.append(*(calc_recall(result_eval_matcher[['user_id', 'actual', name_col]], k)))\n",
    "\n",
    "own_recalls = sorted(own_recalls, key=lambda x: x[1], reverse=True)\n",
    "own_recalls"
   ]
  },
  {
   "cell_type": "markdown",
   "id": "ba567f14-9797-4836-a7ac-97ae13d31fdc",
   "metadata": {},
   "source": [
    "Prepare list for plot"
   ]
  },
  {
   "cell_type": "code",
   "execution_count": 59,
   "id": "015fb81c-cf22-498d-8d7b-8725fe7fe61a",
   "metadata": {},
   "outputs": [
    {
     "data": {
      "text/plain": [
       "[0.03680745510211503,\n",
       " 0.06350702403477008,\n",
       " 0.09440018503287836,\n",
       " 0.13529131433084954,\n",
       " 0.18331108194049558,\n",
       " 0.20241935084571852,\n",
       " 0.21820203472421704,\n",
       " 0.24053649681401984,\n",
       " 0.2586199819246717]"
      ]
     },
     "execution_count": 59,
     "metadata": {},
     "output_type": "execute_result"
    }
   ],
   "source": [
    "own_recalls_k = []\n",
    "for rec in own_recalls[::-1]:\n",
    "    own_recalls_k.append(rec[1])\n",
    "own_recalls_k"
   ]
  },
  {
   "cell_type": "code",
   "execution_count": 60,
   "id": "0676e358-95d6-4907-8aaa-6536156df9a4",
   "metadata": {},
   "outputs": [
    {
     "data": {
      "image/png": "[encoded data removed]",
      "text/plain": [
       "<Figure size 432x288 with 1 Axes>"
      ]
     },
     "metadata": {
      "needs_background": "light"
     },
     "output_type": "display_data"
    }
   ],
   "source": [
    "plt.plot(top_k_recs, own_recalls_k)\n",
    "plt.show()"
   ]
  },
  {
   "cell_type": "markdown",
   "id": "ad278102-3c2a-48bd-9b73-4c43738e06f2",
   "metadata": {},
   "source": [
    "**Conclusion:** Of course the more sample value the more recall. But growth rate for k > 200 is low, therefore we choose number k predicts equal 200. "
   ]
  },
  {
   "cell_type": "code",
   "execution_count": 66,
   "id": "dfe53875-a818-4792-8469-605734d42035",
   "metadata": {},
   "outputs": [],
   "source": [
    "N_PREDICT = 200"
   ]
  },
  {
   "cell_type": "markdown",
   "id": "b9f6224b-748b-4b47-877b-15b12684620d",
   "metadata": {},
   "source": [
    "# 4. Ranking model "
   ]
  },
  {
   "cell_type": "markdown",
   "id": "cc99f276-6349-4fe4-b697-bed2aa26ac69",
   "metadata": {},
   "source": [
    "### Prepare data"
   ]
  },
  {
   "cell_type": "markdown",
   "id": "732b6743-44bc-43c8-a0fc-cbb6cde4c3b7",
   "metadata": {},
   "source": [
    "We need make new dataset with 'target' column"
   ]
  },
  {
   "cell_type": "code",
   "execution_count": 75,
   "id": "aef3665a-c535-4eca-ba0b-883e40d5ad2b",
   "metadata": {},
   "outputs": [],
   "source": [
    "# get only unique users from train_ranker -- 6 weeks --\n",
    "df_match_candidates = pd.DataFrame(data_train_ranker['user_id'].unique())\n",
    "df_match_candidates.columns = ['user_id']"
   ]
  },
  {
   "cell_type": "code",
   "execution_count": 76,
   "id": "bc2725c4-3be0-4898-a9c2-3919d5035668",
   "metadata": {},
   "outputs": [
    {
     "name": "stdout",
     "output_type": "stream",
     "text": [
      "CPU times: user 5.85 s, sys: 40.7 ms, total: 5.89 s\n",
      "Wall time: 6.04 s\n"
     ]
    }
   ],
   "source": [
    "%%time\n",
    "# get candidates from first stage (matcher)\n",
    "df_match_candidates['candidates'] = df_match_candidates['user_id'].\\\n",
    "                                        apply(lambda x: recommender.get_own_recommendations(x, N=N_PREDICT))"
   ]
  },
  {
   "cell_type": "code",
   "execution_count": 77,
   "id": "4fbc7c2b-1f77-48d5-974d-fd72c28cdf43",
   "metadata": {},
   "outputs": [
    {
     "data": {
      "text/html": [
       "<div>\n",
       "<style scoped>\n",
       "    .dataframe tbody tr th:only-of-type {\n",
       "        vertical-align: middle;\n",
       "    }\n",
       "\n",
       "    .dataframe tbody tr th {\n",
       "        vertical-align: top;\n",
       "    }\n",
       "\n",
       "    .dataframe thead th {\n",
       "        text-align: right;\n",
       "    }\n",
       "</style>\n",
       "<table border=\"1\" class=\"dataframe\">\n",
       "  <thead>\n",
       "    <tr style=\"text-align: right;\">\n",
       "      <th></th>\n",
       "      <th>user_id</th>\n",
       "      <th>candidates</th>\n",
       "    </tr>\n",
       "  </thead>\n",
       "  <tbody>\n",
       "    <tr>\n",
       "      <th>0</th>\n",
       "      <td>84</td>\n",
       "      <td>[903529, 920025, 977374, 829722, 987518, 87304...</td>\n",
       "    </tr>\n",
       "    <tr>\n",
       "      <th>1</th>\n",
       "      <td>1753</td>\n",
       "      <td>[967041, 963686, 948640, 1057168, 9553382, 942...</td>\n",
       "    </tr>\n",
       "  </tbody>\n",
       "</table>\n",
       "</div>"
      ],
      "text/plain": [
       "   user_id                                         candidates\n",
       "0       84  [903529, 920025, 977374, 829722, 987518, 87304...\n",
       "1     1753  [967041, 963686, 948640, 1057168, 9553382, 942..."
      ]
     },
     "execution_count": 77,
     "metadata": {},
     "output_type": "execute_result"
    }
   ],
   "source": [
    "df_match_candidates.head(2)"
   ]
  },
  {
   "cell_type": "code",
   "execution_count": 78,
   "id": "3447318e-89c4-45a9-bf16-be7f198fd022",
   "metadata": {},
   "outputs": [],
   "source": [
    "# get transform candidates for each user\n",
    "df_items = df_match_candidates.\\\n",
    "                apply(lambda x: pd.Series(x['candidates']), axis=1).stack().reset_index(level=1, drop=True)\n",
    "df_items.name = 'item_id'\n",
    "\n",
    "# and join it\n",
    "df_match_candidates = df_match_candidates.drop('candidates', axis=1).join(df_items)"
   ]
  },
  {
   "cell_type": "code",
   "execution_count": 79,
   "id": "1631b45f-b7a0-40de-b28c-2f1a26d9ed08",
   "metadata": {},
   "outputs": [
    {
     "data": {
      "text/html": [
       "<div>\n",
       "<style scoped>\n",
       "    .dataframe tbody tr th:only-of-type {\n",
       "        vertical-align: middle;\n",
       "    }\n",
       "\n",
       "    .dataframe tbody tr th {\n",
       "        vertical-align: top;\n",
       "    }\n",
       "\n",
       "    .dataframe thead th {\n",
       "        text-align: right;\n",
       "    }\n",
       "</style>\n",
       "<table border=\"1\" class=\"dataframe\">\n",
       "  <thead>\n",
       "    <tr style=\"text-align: right;\">\n",
       "      <th></th>\n",
       "      <th>user_id</th>\n",
       "      <th>item_id</th>\n",
       "    </tr>\n",
       "  </thead>\n",
       "  <tbody>\n",
       "    <tr>\n",
       "      <th>0</th>\n",
       "      <td>84</td>\n",
       "      <td>903529</td>\n",
       "    </tr>\n",
       "    <tr>\n",
       "      <th>0</th>\n",
       "      <td>84</td>\n",
       "      <td>920025</td>\n",
       "    </tr>\n",
       "    <tr>\n",
       "      <th>0</th>\n",
       "      <td>84</td>\n",
       "      <td>977374</td>\n",
       "    </tr>\n",
       "    <tr>\n",
       "      <th>0</th>\n",
       "      <td>84</td>\n",
       "      <td>829722</td>\n",
       "    </tr>\n",
       "  </tbody>\n",
       "</table>\n",
       "</div>"
      ],
      "text/plain": [
       "   user_id  item_id\n",
       "0       84   903529\n",
       "0       84   920025\n",
       "0       84   977374\n",
       "0       84   829722"
      ]
     },
     "execution_count": 79,
     "metadata": {},
     "output_type": "execute_result"
    }
   ],
   "source": [
    "df_match_candidates.head(4)"
   ]
  },
  {
   "cell_type": "markdown",
   "id": "8dba71f5-d9c1-49e5-8c26-e80af46551a2",
   "metadata": {},
   "source": [
    "Check warm start"
   ]
  },
  {
   "cell_type": "code",
   "execution_count": 80,
   "id": "2ed00f9d-deeb-4db0-aee3-d6d2e73b10fa",
   "metadata": {},
   "outputs": [
    {
     "name": "stdout",
     "output_type": "stream",
     "text": [
      "match_candidates:\n",
      "Shape: (438800, 2) Users: 2194 Items: 4624\n",
      "\n"
     ]
    }
   ],
   "source": [
    "print_stats_data(df_match_candidates, 'match_candidates')"
   ]
  },
  {
   "cell_type": "markdown",
   "id": "48b8345d-68e1-4853-aa9e-5282467232d4",
   "metadata": {},
   "source": [
    "### Make target column"
   ]
  },
  {
   "cell_type": "code",
   "execution_count": 102,
   "id": "725515c9-563a-4297-be21-405cf22550ea",
   "metadata": {},
   "outputs": [],
   "source": [
    "# make new dataset for convenience  -- 6 weeks --\n",
    "df_ranker_train = data_train_ranker[['user_id', 'item_id']].copy()\n",
    "# only purchases\n",
    "df_ranker_train['target'] = 1"
   ]
  },
  {
   "cell_type": "markdown",
   "id": "f7c9ebec-43c9-4cc3-bcea-f227874bb2a5",
   "metadata": {},
   "source": [
    "Add zeros to dataset"
   ]
  },
  {
   "cell_type": "code",
   "execution_count": 103,
   "id": "d9b79106-6aab-4602-b7ce-852300bf7a4e",
   "metadata": {},
   "outputs": [],
   "source": [
    "df_ranker_train = df_match_candidates.merge(df_ranker_train, on=['user_id', 'item_id'], how='left')\n",
    "\n",
    "# clean dublicates\n",
    "df_ranker_train = df_ranker_train.drop_duplicates(subset=['user_id', 'item_id'])\n",
    "\n",
    "df_ranker_train['target'].fillna(0, inplace= True)"
   ]
  },
  {
   "cell_type": "code",
   "execution_count": 104,
   "id": "2c9e9d1e-82e0-49d6-ac09-6a52bbb7451e",
   "metadata": {},
   "outputs": [
    {
     "data": {
      "text/html": [
       "<div>\n",
       "<style scoped>\n",
       "    .dataframe tbody tr th:only-of-type {\n",
       "        vertical-align: middle;\n",
       "    }\n",
       "\n",
       "    .dataframe tbody tr th {\n",
       "        vertical-align: top;\n",
       "    }\n",
       "\n",
       "    .dataframe thead th {\n",
       "        text-align: right;\n",
       "    }\n",
       "</style>\n",
       "<table border=\"1\" class=\"dataframe\">\n",
       "  <thead>\n",
       "    <tr style=\"text-align: right;\">\n",
       "      <th></th>\n",
       "      <th>user_id</th>\n",
       "      <th>item_id</th>\n",
       "      <th>target</th>\n",
       "    </tr>\n",
       "  </thead>\n",
       "  <tbody>\n",
       "    <tr>\n",
       "      <th>0</th>\n",
       "      <td>84</td>\n",
       "      <td>903529</td>\n",
       "      <td>1.0</td>\n",
       "    </tr>\n",
       "    <tr>\n",
       "      <th>2</th>\n",
       "      <td>84</td>\n",
       "      <td>920025</td>\n",
       "      <td>1.0</td>\n",
       "    </tr>\n",
       "  </tbody>\n",
       "</table>\n",
       "</div>"
      ],
      "text/plain": [
       "   user_id  item_id  target\n",
       "0       84   903529     1.0\n",
       "2       84   920025     1.0"
      ]
     },
     "execution_count": 104,
     "metadata": {},
     "output_type": "execute_result"
    }
   ],
   "source": [
    "df_ranker_train.head(2)"
   ]
  },
  {
   "cell_type": "code",
   "execution_count": 105,
   "id": "a691ca5e-06e3-46ee-8bee-6b6d90b7f865",
   "metadata": {},
   "outputs": [
    {
     "data": {
      "text/plain": [
       "0.0    402259\n",
       "1.0     21206\n",
       "Name: target, dtype: int64"
      ]
     },
     "execution_count": 105,
     "metadata": {},
     "output_type": "execute_result"
    }
   ],
   "source": [
    "df_ranker_train.target.value_counts()"
   ]
  },
  {
   "cell_type": "code",
   "execution_count": 106,
   "id": "c0f065cc-c5d5-4c64-8c94-4c2dd3005aec",
   "metadata": {},
   "outputs": [
    {
     "data": {
      "text/plain": [
       "0.05007733815073265"
      ]
     },
     "execution_count": 106,
     "metadata": {},
     "output_type": "execute_result"
    }
   ],
   "source": [
    "df_ranker_train['target'].mean()"
   ]
  },
  {
   "cell_type": "markdown",
   "id": "0a023bf4-f32c-48a3-a45c-2b9acf6688a5",
   "metadata": {},
   "source": [
    "### X_train, y_train"
   ]
  },
  {
   "cell_type": "code",
   "execution_count": 107,
   "id": "eae8bdcd-cdad-4762-8477-ed47a690b056",
   "metadata": {},
   "outputs": [
    {
     "data": {
      "text/html": [
       "<div>\n",
       "<style scoped>\n",
       "    .dataframe tbody tr th:only-of-type {\n",
       "        vertical-align: middle;\n",
       "    }\n",
       "\n",
       "    .dataframe tbody tr th {\n",
       "        vertical-align: top;\n",
       "    }\n",
       "\n",
       "    .dataframe thead th {\n",
       "        text-align: right;\n",
       "    }\n",
       "</style>\n",
       "<table border=\"1\" class=\"dataframe\">\n",
       "  <thead>\n",
       "    <tr style=\"text-align: right;\">\n",
       "      <th></th>\n",
       "      <th>user_id</th>\n",
       "      <th>item_id</th>\n",
       "      <th>target</th>\n",
       "      <th>manufacturer</th>\n",
       "      <th>department</th>\n",
       "      <th>brand</th>\n",
       "      <th>commodity_desc</th>\n",
       "      <th>sub_commodity_desc</th>\n",
       "      <th>curr_size_of_product</th>\n",
       "      <th>age_desc</th>\n",
       "      <th>marital_status_code</th>\n",
       "      <th>income_desc</th>\n",
       "      <th>homeowner_desc</th>\n",
       "      <th>hh_comp_desc</th>\n",
       "      <th>household_size_desc</th>\n",
       "      <th>kid_category_desc</th>\n",
       "    </tr>\n",
       "  </thead>\n",
       "  <tbody>\n",
       "    <tr>\n",
       "      <th>0</th>\n",
       "      <td>84</td>\n",
       "      <td>903529</td>\n",
       "      <td>1.0</td>\n",
       "      <td>539</td>\n",
       "      <td>DRUG GM</td>\n",
       "      <td>National</td>\n",
       "      <td>CIGARETTES</td>\n",
       "      <td>CIGARETTES</td>\n",
       "      <td>972976  PK</td>\n",
       "      <td>NaN</td>\n",
       "      <td>NaN</td>\n",
       "      <td>NaN</td>\n",
       "      <td>NaN</td>\n",
       "      <td>NaN</td>\n",
       "      <td>NaN</td>\n",
       "      <td>NaN</td>\n",
       "    </tr>\n",
       "    <tr>\n",
       "      <th>1</th>\n",
       "      <td>84</td>\n",
       "      <td>920025</td>\n",
       "      <td>1.0</td>\n",
       "      <td>764</td>\n",
       "      <td>GROCERY</td>\n",
       "      <td>National</td>\n",
       "      <td>LAUNDRY ADDITIVES</td>\n",
       "      <td>FABRIC SOFTENER LIQUID</td>\n",
       "      <td>60 LOAD</td>\n",
       "      <td>NaN</td>\n",
       "      <td>NaN</td>\n",
       "      <td>NaN</td>\n",
       "      <td>NaN</td>\n",
       "      <td>NaN</td>\n",
       "      <td>NaN</td>\n",
       "      <td>NaN</td>\n",
       "    </tr>\n",
       "  </tbody>\n",
       "</table>\n",
       "</div>"
      ],
      "text/plain": [
       "   user_id  item_id  target  manufacturer department     brand  \\\n",
       "0       84   903529     1.0           539    DRUG GM  National   \n",
       "1       84   920025     1.0           764    GROCERY  National   \n",
       "\n",
       "      commodity_desc      sub_commodity_desc curr_size_of_product age_desc  \\\n",
       "0         CIGARETTES              CIGARETTES           972976  PK      NaN   \n",
       "1  LAUNDRY ADDITIVES  FABRIC SOFTENER LIQUID              60 LOAD      NaN   \n",
       "\n",
       "  marital_status_code income_desc homeowner_desc hh_comp_desc  \\\n",
       "0                 NaN         NaN            NaN          NaN   \n",
       "1                 NaN         NaN            NaN          NaN   \n",
       "\n",
       "  household_size_desc kid_category_desc  \n",
       "0                 NaN               NaN  \n",
       "1                 NaN               NaN  "
      ]
     },
     "execution_count": 107,
     "metadata": {},
     "output_type": "execute_result"
    }
   ],
   "source": [
    "df_ranker_train = df_ranker_train.merge(item_features, on='item_id', how='left')\n",
    "df_ranker_train = df_ranker_train.merge(user_features, on='user_id', how='left')\n",
    "\n",
    "df_ranker_train.head(2)"
   ]
  },
  {
   "cell_type": "code",
   "execution_count": 108,
   "id": "f87988a9-6e15-4d4e-9ea6-f365cf0b51be",
   "metadata": {},
   "outputs": [],
   "source": [
    "X_train = df_ranker_train.drop('target', axis=1)\n",
    "y_train = df_ranker_train[['target']]"
   ]
  },
  {
   "cell_type": "code",
   "execution_count": 109,
   "id": "b7ae9ef0-c18c-4416-a293-281af49557a0",
   "metadata": {},
   "outputs": [
    {
     "name": "stdout",
     "output_type": "stream",
     "text": [
      "<class 'pandas.core.frame.DataFrame'>\n",
      "Int64Index: 423465 entries, 0 to 423464\n",
      "Data columns (total 15 columns):\n",
      " #   Column                Non-Null Count   Dtype \n",
      "---  ------                --------------   ----- \n",
      " 0   user_id               423465 non-null  int64 \n",
      " 1   item_id               423465 non-null  int64 \n",
      " 2   manufacturer          423465 non-null  int64 \n",
      " 3   department            423465 non-null  object\n",
      " 4   brand                 423465 non-null  object\n",
      " 5   commodity_desc        423465 non-null  object\n",
      " 6   sub_commodity_desc    423465 non-null  object\n",
      " 7   curr_size_of_product  423465 non-null  object\n",
      " 8   age_desc              153579 non-null  object\n",
      " 9   marital_status_code   153579 non-null  object\n",
      " 10  income_desc           153579 non-null  object\n",
      " 11  homeowner_desc        153579 non-null  object\n",
      " 12  hh_comp_desc          153579 non-null  object\n",
      " 13  household_size_desc   153579 non-null  object\n",
      " 14  kid_category_desc     153579 non-null  object\n",
      "dtypes: int64(3), object(12)\n",
      "memory usage: 51.7+ MB\n"
     ]
    }
   ],
   "source": [
    "X_train.info()"
   ]
  },
  {
   "cell_type": "markdown",
   "id": "5b495776-353b-4488-8cdc-1a7fc5de08ca",
   "metadata": {},
   "source": [
    "Set category columns"
   ]
  },
  {
   "cell_type": "code",
   "execution_count": 110,
   "id": "ea164bca-fb3d-4af1-b543-d741e5ab2b11",
   "metadata": {},
   "outputs": [],
   "source": [
    "cat_feats = X_train.columns[2:].tolist()\n",
    "\n",
    "X_train[cat_feats] = X_train[cat_feats].fillna('Unknown')\n",
    "\n",
    "X_train[cat_feats] = X_train[cat_feats].astype('category')"
   ]
  },
  {
   "cell_type": "markdown",
   "id": "5d47705f-26db-496d-91e0-89c9a44d5b39",
   "metadata": {},
   "source": [
    "### Learn LightGBM Classifier"
   ]
  },
  {
   "cell_type": "code",
   "execution_count": 112,
   "id": "dfa6a668-3380-4a00-966e-c4057d833907",
   "metadata": {},
   "outputs": [
    {
     "name": "stdout",
     "output_type": "stream",
     "text": [
      "CPU times: user 32.6 s, sys: 401 ms, total: 33 s\n",
      "Wall time: 4.48 s\n"
     ]
    }
   ],
   "source": [
    "%%time\n",
    "lgb = LGBMClassifier(objective='binary',\n",
    "                     max_depth=8,\n",
    "                     n_estimators=300,\n",
    "                     learning_rate=0.05,\n",
    "                     categorical_column=cat_feats,\n",
    "                     n_jobs=-1,\n",
    "#                      verbose=0\n",
    "                   )\n",
    "\n",
    "lgb.fit(X_train, y_train['target'])\n",
    "\n",
    "train_preds = lgb.predict_proba(X_train)"
   ]
  },
  {
   "cell_type": "markdown",
   "id": "d70b9807-8d12-45d2-a288-086f4c8ea07f",
   "metadata": {},
   "source": [
    "Make dataset for predict and rerank"
   ]
  },
  {
   "cell_type": "code",
   "execution_count": 113,
   "id": "b5a6e687-c3fd-4f7a-b640-34b452165979",
   "metadata": {},
   "outputs": [],
   "source": [
    "df_ranker_predict = df_ranker_train.copy()"
   ]
  },
  {
   "cell_type": "code",
   "execution_count": 114,
   "id": "191b21df-0953-47c2-b4aa-b8dcd04c8a17",
   "metadata": {},
   "outputs": [
    {
     "data": {
      "text/plain": [
       "0    0.184648\n",
       "1    0.090164\n",
       "2    0.076059\n",
       "3    0.067189\n",
       "4    0.005938\n",
       "Name: proba_item_purchase, dtype: float64"
      ]
     },
     "execution_count": 114,
     "metadata": {},
     "output_type": "execute_result"
    }
   ],
   "source": [
    "df_ranker_predict['proba_item_purchase'] = train_preds[:,1]\n",
    "df_ranker_predict['proba_item_purchase'][:5]"
   ]
  },
  {
   "cell_type": "markdown",
   "id": "72bac2ff-20d7-49db-b506-7d553106a963",
   "metadata": {
    "tags": []
   },
   "source": [
    "### Evaluate on test data"
   ]
  },
  {
   "cell_type": "markdown",
   "id": "6eec6e0f-b10e-4f04-b9dc-c01a2bc61c2d",
   "metadata": {},
   "source": [
    "Make dataset for evaluate ranker model"
   ]
  },
  {
   "cell_type": "code",
   "execution_count": 115,
   "id": "6041a37e-7e9c-4c4e-9878-f4ebb06ebac5",
   "metadata": {},
   "outputs": [
    {
     "data": {
      "text/html": [
       "<div>\n",
       "<style scoped>\n",
       "    .dataframe tbody tr th:only-of-type {\n",
       "        vertical-align: middle;\n",
       "    }\n",
       "\n",
       "    .dataframe tbody tr th {\n",
       "        vertical-align: top;\n",
       "    }\n",
       "\n",
       "    .dataframe thead th {\n",
       "        text-align: right;\n",
       "    }\n",
       "</style>\n",
       "<table border=\"1\" class=\"dataframe\">\n",
       "  <thead>\n",
       "    <tr style=\"text-align: right;\">\n",
       "      <th></th>\n",
       "      <th>user_id</th>\n",
       "      <th>actual</th>\n",
       "    </tr>\n",
       "  </thead>\n",
       "  <tbody>\n",
       "    <tr>\n",
       "      <th>0</th>\n",
       "      <td>1</td>\n",
       "      <td>[880007, 883616, 931136, 938004, 940947, 94726...</td>\n",
       "    </tr>\n",
       "    <tr>\n",
       "      <th>1</th>\n",
       "      <td>2</td>\n",
       "      <td>[820165, 820291, 826784, 826835, 829009, 85784...</td>\n",
       "    </tr>\n",
       "  </tbody>\n",
       "</table>\n",
       "</div>"
      ],
      "text/plain": [
       "   user_id                                             actual\n",
       "0        1  [880007, 883616, 931136, 938004, 940947, 94726...\n",
       "1        2  [820165, 820291, 826784, 826835, 829009, 85784..."
      ]
     },
     "execution_count": 115,
     "metadata": {},
     "output_type": "execute_result"
    }
   ],
   "source": [
    "result_eval_ranker = data_val_ranker.groupby('user_id')['item_id'].unique().reset_index()\n",
    "result_eval_ranker.columns=['user_id', 'actual']\n",
    "result_eval_ranker.head(2)"
   ]
  },
  {
   "cell_type": "markdown",
   "id": "d7ff4cd2-d18c-4c9b-a204-6f888906cffc",
   "metadata": {},
   "source": [
    "Add own recommendations"
   ]
  },
  {
   "cell_type": "code",
   "execution_count": 116,
   "id": "dc955c87-da4b-4d6a-8921-4b4b52a761bf",
   "metadata": {},
   "outputs": [
    {
     "name": "stdout",
     "output_type": "stream",
     "text": [
      "CPU times: user 5.36 s, sys: 442 ms, total: 5.8 s\n",
      "Wall time: 5.85 s\n"
     ]
    }
   ],
   "source": [
    "%%time\n",
    "result_eval_ranker['own_rec'] = result_eval_ranker['user_id'].\\\n",
    "                                    apply(lambda x: recommender.get_own_recommendations(x, N=N_PREDICT))"
   ]
  },
  {
   "cell_type": "code",
   "execution_count": 117,
   "id": "55075b8a-e3c8-4235-aa3f-a54e46331216",
   "metadata": {},
   "outputs": [],
   "source": [
    "# Get rerank recommendations (rerank, sort and cut top-5)\n",
    "def rerank(user_id, k=5):\n",
    "    return df_ranker_predict[df_ranker_predict['user_id']==user_id].\\\n",
    "                sort_values('proba_item_purchase', ascending=False).head(k).item_id.tolist()"
   ]
  },
  {
   "cell_type": "markdown",
   "id": "acb0c77b-942c-4ca8-a906-93f3c0291eeb",
   "metadata": {},
   "source": [
    "Add rerunk own recommendations"
   ]
  },
  {
   "cell_type": "code",
   "execution_count": 118,
   "id": "4667d5fa-e2a2-4acb-91fb-81a5618df219",
   "metadata": {},
   "outputs": [],
   "source": [
    "result_eval_ranker['reranked_own_rec'] = result_eval_ranker['user_id'].apply(lambda user_id: rerank(user_id))"
   ]
  },
  {
   "cell_type": "code",
   "execution_count": 123,
   "id": "8f303621-35ca-4089-aafb-26f818e5a63c",
   "metadata": {},
   "outputs": [
    {
     "data": {
      "text/html": [
       "<div>\n",
       "<style scoped>\n",
       "    .dataframe tbody tr th:only-of-type {\n",
       "        vertical-align: middle;\n",
       "    }\n",
       "\n",
       "    .dataframe tbody tr th {\n",
       "        vertical-align: top;\n",
       "    }\n",
       "\n",
       "    .dataframe thead th {\n",
       "        text-align: right;\n",
       "    }\n",
       "</style>\n",
       "<table border=\"1\" class=\"dataframe\">\n",
       "  <thead>\n",
       "    <tr style=\"text-align: right;\">\n",
       "      <th></th>\n",
       "      <th>user_id</th>\n",
       "      <th>actual</th>\n",
       "      <th>own_rec</th>\n",
       "      <th>reranked_own_rec</th>\n",
       "    </tr>\n",
       "  </thead>\n",
       "  <tbody>\n",
       "    <tr>\n",
       "      <th>0</th>\n",
       "      <td>1</td>\n",
       "      <td>[880007, 883616, 931136, 938004, 940947, 94726...</td>\n",
       "      <td>[856942, 9297615, 5577022, 877391, 9655212, 88...</td>\n",
       "      <td>[8293439, 13877012, 1041796, 1135834, 15926844]</td>\n",
       "    </tr>\n",
       "    <tr>\n",
       "      <th>1</th>\n",
       "      <td>2</td>\n",
       "      <td>[820165, 820291, 826784, 826835, 829009, 85784...</td>\n",
       "      <td>[1103898, 911974, 1076580, 5567582, 1056620, 9...</td>\n",
       "      <td>[898847, 885023, 1029743, 945901, 916122]</td>\n",
       "    </tr>\n",
       "    <tr>\n",
       "      <th>2</th>\n",
       "      <td>3</td>\n",
       "      <td>[827683, 908531, 989069, 1071377, 1080155, 109...</td>\n",
       "      <td>[1092937, 1008714, 12132312, 1075979, 998206, ...</td>\n",
       "      <td>[1029743, 6534035, 916122, 992529, 904777]</td>\n",
       "    </tr>\n",
       "  </tbody>\n",
       "</table>\n",
       "</div>"
      ],
      "text/plain": [
       "   user_id                                             actual  \\\n",
       "0        1  [880007, 883616, 931136, 938004, 940947, 94726...   \n",
       "1        2  [820165, 820291, 826784, 826835, 829009, 85784...   \n",
       "2        3  [827683, 908531, 989069, 1071377, 1080155, 109...   \n",
       "\n",
       "                                             own_rec  \\\n",
       "0  [856942, 9297615, 5577022, 877391, 9655212, 88...   \n",
       "1  [1103898, 911974, 1076580, 5567582, 1056620, 9...   \n",
       "2  [1092937, 1008714, 12132312, 1075979, 998206, ...   \n",
       "\n",
       "                                  reranked_own_rec  \n",
       "0  [8293439, 13877012, 1041796, 1135834, 15926844]  \n",
       "1        [898847, 885023, 1029743, 945901, 916122]  \n",
       "2       [1029743, 6534035, 916122, 992529, 904777]  "
      ]
     },
     "execution_count": 123,
     "metadata": {},
     "output_type": "execute_result"
    }
   ],
   "source": [
    "result_eval_ranker.head(3)"
   ]
  },
  {
   "cell_type": "code",
   "execution_count": 121,
   "id": "a7ad0908-5a60-4414-ad62-a876aa13e75d",
   "metadata": {},
   "outputs": [],
   "source": [
    "TOPK_PRECISION = 5"
   ]
  },
  {
   "cell_type": "code",
   "execution_count": 122,
   "id": "2233dfd0-afab-4017-88b8-21bf52b81c98",
   "metadata": {},
   "outputs": [
    {
     "name": "stdout",
     "output_type": "stream",
     "text": [
      "('reranked_own_rec', 0.1260364842454387)\n",
      "('own_rec', 0.12586298459904327)\n"
     ]
    }
   ],
   "source": [
    "print(*sorted(calc_precision(result_eval_ranker, TOPK_PRECISION), key=lambda x: x[1], reverse=True), sep='\\n')"
   ]
  },
  {
   "cell_type": "markdown",
   "id": "5938e4bc-c646-4f32-9daa-98c64a14bae4",
   "metadata": {},
   "source": [
    "So far a mediocre result"
   ]
  },
  {
   "cell_type": "markdown",
   "id": "22fb1ab8-1f38-4339-93c4-345d77efe41f",
   "metadata": {},
   "source": [
    "### Learn CatBoost"
   ]
  },
  {
   "cell_type": "code",
   "execution_count": 124,
   "id": "7c4bfd57-891b-40ba-a9cb-d5a95e670d72",
   "metadata": {},
   "outputs": [
    {
     "name": "stdout",
     "output_type": "stream",
     "text": [
      "CPU times: user 37min 25s, sys: 25.2 s, total: 37min 50s\n",
      "Wall time: 5min 38s\n"
     ]
    }
   ],
   "source": [
    "%%time\n",
    "\n",
    "model = CatBoost(params ={'objective': \"Logloss\",\n",
    "                          \"iterations\":1000,  # n_estimators\n",
    "                          \"max_depth\":8,\n",
    "                        })\n",
    "\n",
    "model.fit(X_train, y_train, silent=True, cat_features=cat_feats)\n",
    "\n",
    "train_preds = model.predict(X_train, prediction_type=\"Probability\")"
   ]
  },
  {
   "cell_type": "code",
   "execution_count": 125,
   "id": "9b9540b9-33b2-4de9-addc-0fd2afa204a1",
   "metadata": {},
   "outputs": [],
   "source": [
    "df_ranker_predict['proba_item_purchase'] = train_preds[:,1]"
   ]
  },
  {
   "cell_type": "code",
   "execution_count": 126,
   "id": "5597be0a-4d2f-4347-b8c1-bdc607b6bed7",
   "metadata": {},
   "outputs": [],
   "source": [
    "result_eval_ranker['reranked_own_rec'] = result_eval_ranker['user_id'].apply(lambda user_id: rerank(user_id))"
   ]
  },
  {
   "cell_type": "code",
   "execution_count": 127,
   "id": "24a5f2f3-32fd-43af-b016-a4ea716a6f2f",
   "metadata": {},
   "outputs": [
    {
     "name": "stdout",
     "output_type": "stream",
     "text": [
      "('reranked_own_rec', 0.1297954671088991)\n",
      "('own_rec', 0.12586298459904327)\n"
     ]
    }
   ],
   "source": [
    "print(*sorted(calc_precision(result_eval_ranker, TOPK_PRECISION), key=lambda x: x[1], reverse=True), sep='\\n')"
   ]
  },
  {
   "cell_type": "markdown",
   "id": "617b6526-64a0-4b15-8604-8d7ea588bc90",
   "metadata": {},
   "source": [
    "**Conclusion:** CatBoost shows best result but it is still so far a mediocre"
   ]
  },
  {
   "cell_type": "markdown",
   "id": "02beafcf-18bb-4555-adcd-d2ad9574a72a",
   "metadata": {},
   "source": [
    "# 5. Feature engineering for ranking"
   ]
  },
  {
   "cell_type": "markdown",
   "id": "aadddd9c-dac2-498d-90f0-3525ea8251bf",
   "metadata": {
    "tags": []
   },
   "source": [
    "### Prepare data"
   ]
  },
  {
   "cell_type": "markdown",
   "id": "c990aaa5-a49b-44f9-8ff2-2109a834befd",
   "metadata": {},
   "source": [
    "For best ranking result we need take raw data without prefilter function"
   ]
  },
  {
   "cell_type": "code",
   "execution_count": 501,
   "id": "088c5f4d-9c75-4a6a-82b9-9b8189b88932",
   "metadata": {},
   "outputs": [],
   "source": [
    "# take raw data_train_matcher without prefilter\n",
    "data_train_matcher_feats = data[data['week_no'] < data['week_no'].max() - VAL_MATCHER_WEEKS]\n",
    "\n",
    "# but still exclude cold-start\n",
    "data_train_matcher_feats = data_train_matcher_feats[data_train_matcher_feats.user_id.isin(common_users)]"
   ]
  },
  {
   "cell_type": "markdown",
   "id": "6169922b-a3a0-4c80-ab62-a8eabfc2ab77",
   "metadata": {},
   "source": [
    "data_val_matcher already has raw data"
   ]
  },
  {
   "cell_type": "code",
   "execution_count": 502,
   "id": "f550f0cf-05b3-4ae7-a3b0-5cba3933f201",
   "metadata": {},
   "outputs": [],
   "source": [
    "# make joined dataset from 1-st layer (matching)  -- old weeks + 6 weeks --\n",
    "df_join_train_matcher = pd.concat([data_train_matcher_feats, data_val_matcher])"
   ]
  },
  {
   "cell_type": "code",
   "execution_count": 503,
   "id": "46cebd47-64f2-44b1-9c86-d5df92b2c858",
   "metadata": {},
   "outputs": [
    {
     "data": {
      "text/html": [
       "<div>\n",
       "<style scoped>\n",
       "    .dataframe tbody tr th:only-of-type {\n",
       "        vertical-align: middle;\n",
       "    }\n",
       "\n",
       "    .dataframe tbody tr th {\n",
       "        vertical-align: top;\n",
       "    }\n",
       "\n",
       "    .dataframe thead th {\n",
       "        text-align: right;\n",
       "    }\n",
       "</style>\n",
       "<table border=\"1\" class=\"dataframe\">\n",
       "  <thead>\n",
       "    <tr style=\"text-align: right;\">\n",
       "      <th></th>\n",
       "      <th>user_id</th>\n",
       "      <th>basket_id</th>\n",
       "      <th>day</th>\n",
       "      <th>item_id</th>\n",
       "      <th>quantity</th>\n",
       "      <th>sales_value</th>\n",
       "      <th>store_id</th>\n",
       "      <th>retail_disc</th>\n",
       "      <th>trans_time</th>\n",
       "      <th>week_no</th>\n",
       "      <th>coupon_disc</th>\n",
       "      <th>coupon_match_disc</th>\n",
       "    </tr>\n",
       "  </thead>\n",
       "  <tbody>\n",
       "    <tr>\n",
       "      <th>0</th>\n",
       "      <td>2375</td>\n",
       "      <td>26984851472</td>\n",
       "      <td>1</td>\n",
       "      <td>1004906</td>\n",
       "      <td>1</td>\n",
       "      <td>1.39</td>\n",
       "      <td>364</td>\n",
       "      <td>-0.6</td>\n",
       "      <td>1631</td>\n",
       "      <td>1</td>\n",
       "      <td>0.0</td>\n",
       "      <td>0.0</td>\n",
       "    </tr>\n",
       "    <tr>\n",
       "      <th>1</th>\n",
       "      <td>2375</td>\n",
       "      <td>26984851472</td>\n",
       "      <td>1</td>\n",
       "      <td>1033142</td>\n",
       "      <td>1</td>\n",
       "      <td>0.82</td>\n",
       "      <td>364</td>\n",
       "      <td>0.0</td>\n",
       "      <td>1631</td>\n",
       "      <td>1</td>\n",
       "      <td>0.0</td>\n",
       "      <td>0.0</td>\n",
       "    </tr>\n",
       "  </tbody>\n",
       "</table>\n",
       "</div>"
      ],
      "text/plain": [
       "   user_id    basket_id  day  item_id  quantity  sales_value  store_id  \\\n",
       "0     2375  26984851472    1  1004906         1         1.39       364   \n",
       "1     2375  26984851472    1  1033142         1         0.82       364   \n",
       "\n",
       "   retail_disc  trans_time  week_no  coupon_disc  coupon_match_disc  \n",
       "0         -0.6        1631        1          0.0                0.0  \n",
       "1          0.0        1631        1          0.0                0.0  "
      ]
     },
     "execution_count": 503,
     "metadata": {},
     "output_type": "execute_result"
    }
   ],
   "source": [
    "df_join_train_matcher.head(2)"
   ]
  },
  {
   "cell_type": "code",
   "execution_count": 554,
   "id": "5e52a46c-acb8-4a1e-ba44-4607abac2013",
   "metadata": {},
   "outputs": [],
   "source": [
    "# Get new feature \n",
    "def get_feature(group_by, agg_col, agg_func, denominator_flag=False, denominator_num='week_no'):\n",
    "    # base value of denominator\n",
    "    denominator = 1\n",
    "    \n",
    "    # if flag == true then calculate number of unique value for denominator\n",
    "    if denominator_flag:\n",
    "        denominator = df_join_train_matcher[denominator_num].nunique()\n",
    "    \n",
    "    # return new column as Series \n",
    "    return X_train.merge(df_join_train_matcher.groupby(by=group_by)[agg_col].agg(agg_func)\\\n",
    "                         .rename('new_feature')/denominator, \n",
    "                         how='left', \n",
    "                         on=group_by).iloc[:, -1].fillna(0)"
   ]
  },
  {
   "cell_type": "markdown",
   "id": "db934913-2a2e-41fa-816e-e2f5a5dc80aa",
   "metadata": {
    "tags": []
   },
   "source": [
    "### Add Item features"
   ]
  },
  {
   "cell_type": "code",
   "execution_count": 532,
   "id": "b5d78fc7-50a5-4f55-b925-0ff9845fe654",
   "metadata": {},
   "outputs": [],
   "source": [
    "# X_train = X_train.drop(columns=X_train.columns[15:].tolist())"
   ]
  },
  {
   "cell_type": "code",
   "execution_count": 522,
   "id": "6f6d0b49-6b36-45c4-a29a-b9d6bc9576ef",
   "metadata": {},
   "outputs": [],
   "source": [
    "X_train['total_item_sales_value'] = get_feature('item_id', 'sales_value', 'sum')\n",
    "\n",
    "X_train['total_quantity_value'] = get_feature('item_id', 'quantity', 'sum')\n",
    "\n",
    "X_train['item_freq'] = get_feature('item_id', 'user_id', 'count')\n",
    "\n",
    "X_train['item_quantity_per_week'] = get_feature('item_id', 'quantity', 'sum', True, 'week_no')\n",
    "\n",
    "X_train['item_quantity_per_basket'] = get_feature('item_id', 'quantity', 'sum', True, 'basket_id')\n",
    "\n",
    "X_train['item_freq_per_basket'] = get_feature('item_id', 'user_id', 'count', True, 'basket_id')"
   ]
  },
  {
   "cell_type": "markdown",
   "id": "2f09b1e2-5e02-4743-8d1b-ae80db535e59",
   "metadata": {
    "tags": []
   },
   "source": [
    "### Add User features"
   ]
  },
  {
   "cell_type": "code",
   "execution_count": 523,
   "id": "4a4e3b6c-ce0e-45d0-ba8e-153e7e9d436d",
   "metadata": {},
   "outputs": [],
   "source": [
    "X_train['user_freq'] = get_feature('user_id', 'user_id', 'count')\n",
    "\n",
    "X_train['total_user_sales_value'] = get_feature('user_id', 'sales_value', 'sum')\n",
    "\n",
    "X_train['user_quantity_per_week'] = get_feature('user_id', 'quantity', 'sum', True, 'week_no')\n",
    "\n",
    "X_train['user_quantity_per_baskter'] = get_feature('user_id', 'quantity', 'sum', True, 'basket_id')\n",
    "\n",
    "X_train['user_freq_per_basket'] = get_feature('user_id', 'user_id', 'count', True, 'basket_id')"
   ]
  },
  {
   "cell_type": "markdown",
   "id": "b0a1fdb9-39ed-4ad8-bd6a-34b25cccebde",
   "metadata": {},
   "source": [
    "### Add paired User-Item features"
   ]
  },
  {
   "cell_type": "code",
   "execution_count": 555,
   "id": "22117c8d-844a-444e-ba15-4a729b70fa2a",
   "metadata": {},
   "outputs": [],
   "source": [
    "X_train['user_item_total_sales'] = get_feature(['user_id', 'item_id'], 'sales_value', 'sum')\n",
    "\n",
    "X_train['user_item_total_quantity'] = get_feature(['user_id', 'item_id'], 'quantity', 'sum')\n",
    "\n",
    "X_train['user_item_freq'] = get_feature(['user_id', 'item_id'], 'user_id', 'count')\n",
    "\n",
    "X_train['user_item_quantity_per_week'] = get_feature(['user_id', 'item_id'], 'quantity', 'sum', True, 'week_no')\n",
    "\n",
    "X_train['user_item_quantity_per_baskter'] = get_feature(['user_id', 'item_id'], 'quantity', 'sum', True, 'basket_id')"
   ]
  },
  {
   "cell_type": "code",
   "execution_count": 556,
   "id": "69986f8d-282c-4cb6-b751-9fd2c8abb7ca",
   "metadata": {},
   "outputs": [
    {
     "data": {
      "text/html": [
       "<div>\n",
       "<style scoped>\n",
       "    .dataframe tbody tr th:only-of-type {\n",
       "        vertical-align: middle;\n",
       "    }\n",
       "\n",
       "    .dataframe tbody tr th {\n",
       "        vertical-align: top;\n",
       "    }\n",
       "\n",
       "    .dataframe thead th {\n",
       "        text-align: right;\n",
       "    }\n",
       "</style>\n",
       "<table border=\"1\" class=\"dataframe\">\n",
       "  <thead>\n",
       "    <tr style=\"text-align: right;\">\n",
       "      <th></th>\n",
       "      <th>total_item_sales_value</th>\n",
       "      <th>total_quantity_value</th>\n",
       "      <th>item_freq</th>\n",
       "      <th>item_quantity_per_week</th>\n",
       "      <th>item_quantity_per_basket</th>\n",
       "      <th>item_freq_per_basket</th>\n",
       "      <th>user_freq</th>\n",
       "      <th>total_user_sales_value</th>\n",
       "      <th>user_quantity_per_week</th>\n",
       "      <th>user_quantity_per_baskter</th>\n",
       "      <th>user_freq_per_basket</th>\n",
       "      <th>user_item_total_sales</th>\n",
       "      <th>user_item_total_quantity</th>\n",
       "      <th>user_item_freq</th>\n",
       "      <th>user_item_quantity_per_week</th>\n",
       "      <th>user_item_quantity_per_baskter</th>\n",
       "    </tr>\n",
       "  </thead>\n",
       "  <tbody>\n",
       "    <tr>\n",
       "      <th>0</th>\n",
       "      <td>243.93</td>\n",
       "      <td>72.0</td>\n",
       "      <td>51.0</td>\n",
       "      <td>0.757895</td>\n",
       "      <td>0.000280</td>\n",
       "      <td>0.000198</td>\n",
       "      <td>439.0</td>\n",
       "      <td>1153.65</td>\n",
       "      <td>91.294737</td>\n",
       "      <td>0.033749</td>\n",
       "      <td>0.001708</td>\n",
       "      <td>37.64</td>\n",
       "      <td>11.0</td>\n",
       "      <td>11.0</td>\n",
       "      <td>0.115789</td>\n",
       "      <td>0.000043</td>\n",
       "    </tr>\n",
       "    <tr>\n",
       "      <th>1</th>\n",
       "      <td>449.74</td>\n",
       "      <td>81.0</td>\n",
       "      <td>78.0</td>\n",
       "      <td>0.852632</td>\n",
       "      <td>0.000315</td>\n",
       "      <td>0.000304</td>\n",
       "      <td>439.0</td>\n",
       "      <td>1153.65</td>\n",
       "      <td>91.294737</td>\n",
       "      <td>0.033749</td>\n",
       "      <td>0.001708</td>\n",
       "      <td>39.93</td>\n",
       "      <td>7.0</td>\n",
       "      <td>7.0</td>\n",
       "      <td>0.073684</td>\n",
       "      <td>0.000027</td>\n",
       "    </tr>\n",
       "  </tbody>\n",
       "</table>\n",
       "</div>"
      ],
      "text/plain": [
       "   total_item_sales_value  total_quantity_value  item_freq  \\\n",
       "0                  243.93                  72.0       51.0   \n",
       "1                  449.74                  81.0       78.0   \n",
       "\n",
       "   item_quantity_per_week  item_quantity_per_basket  item_freq_per_basket  \\\n",
       "0                0.757895                  0.000280              0.000198   \n",
       "1                0.852632                  0.000315              0.000304   \n",
       "\n",
       "   user_freq  total_user_sales_value  user_quantity_per_week  \\\n",
       "0      439.0                 1153.65               91.294737   \n",
       "1      439.0                 1153.65               91.294737   \n",
       "\n",
       "   user_quantity_per_baskter  user_freq_per_basket  user_item_total_sales  \\\n",
       "0                   0.033749              0.001708                  37.64   \n",
       "1                   0.033749              0.001708                  39.93   \n",
       "\n",
       "   user_item_total_quantity  user_item_freq  user_item_quantity_per_week  \\\n",
       "0                      11.0            11.0                     0.115789   \n",
       "1                       7.0             7.0                     0.073684   \n",
       "\n",
       "   user_item_quantity_per_baskter  \n",
       "0                        0.000043  \n",
       "1                        0.000027  "
      ]
     },
     "execution_count": 556,
     "metadata": {},
     "output_type": "execute_result"
    }
   ],
   "source": [
    "X_train.iloc[:, 15:].head(2)"
   ]
  },
  {
   "cell_type": "markdown",
   "id": "d80debf9-abea-44ca-b839-1f4d0bbb289a",
   "metadata": {},
   "source": [
    "### Evaluate CatBoost"
   ]
  },
  {
   "cell_type": "code",
   "execution_count": 558,
   "id": "3090a8c9-b0b4-47d2-b354-a0d817a9fb17",
   "metadata": {},
   "outputs": [
    {
     "name": "stdout",
     "output_type": "stream",
     "text": [
      "CPU times: user 40min 3s, sys: 35.8 s, total: 40min 38s\n",
      "Wall time: 6min 3s\n"
     ]
    }
   ],
   "source": [
    "%%time\n",
    "\n",
    "model.fit(X_train, y_train, silent=True, cat_features=cat_feats)\n",
    "\n",
    "train_preds = model.predict(X_train, prediction_type=\"Probability\")"
   ]
  },
  {
   "cell_type": "code",
   "execution_count": 559,
   "id": "1f1dec40-4861-42c2-b6b7-e1d78070d2f3",
   "metadata": {},
   "outputs": [],
   "source": [
    "df_ranker_predict['proba_item_purchase'] = train_preds[:,1]\n",
    "\n",
    "result_eval_ranker['reranked_own_rec'] = result_eval_ranker['user_id'].apply(lambda user_id: rerank(user_id))"
   ]
  },
  {
   "cell_type": "code",
   "execution_count": 550,
   "id": "6d520835-e035-4aae-a8fc-b5f5e5ad71dc",
   "metadata": {},
   "outputs": [
    {
     "name": "stdout",
     "output_type": "stream",
     "text": [
      "('reranked_own_rec', 0.27252625760088234)\n",
      "('own_rec', 0.12586298459904327)\n"
     ]
    }
   ],
   "source": [
    "print(*sorted(calc_precision(result_eval_ranker, TOPK_PRECISION), key=lambda x: x[1], reverse=True), sep='\\n')"
   ]
  },
  {
   "cell_type": "code",
   "execution_count": 578,
   "id": "d7a48344-2367-4864-9949-37c938737c65",
   "metadata": {},
   "outputs": [
    {
     "name": "stdout",
     "output_type": "stream",
     "text": [
      "Relative growth is 116.5 %\n"
     ]
    }
   ],
   "source": [
    "print(f'Relative growth is {round((0.27252625760088234 - 0.12586298459904327) / 0.12586298459904327 * 100, 1)} %')"
   ]
  },
  {
   "cell_type": "code",
   "execution_count": null,
   "id": "fde88c84-c141-4dfb-8f11-34ebbd643517",
   "metadata": {},
   "outputs": [],
   "source": []
  }
 ],
 "metadata": {
  "kernelspec": {
   "display_name": "Python 3 (ipykernel)",
   "language": "python",
   "name": "python3"
  },
  "language_info": {
   "codemirror_mode": {
    "name": "ipython",
    "version": 3
   },
   "file_extension": ".py",
   "mimetype": "text/x-python",
   "name": "python",
   "nbconvert_exporter": "python",
   "pygments_lexer": "ipython3",
   "version": "3.9.12"
  }
 },
 "nbformat": 4,
 "nbformat_minor": 5
}
