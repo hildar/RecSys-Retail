{
 "cells": [
  {
   "cell_type": "markdown",
   "id": "839aa2f6-bc19-4c61-b2d7-5bb017b68281",
   "metadata": {
    "tags": []
   },
   "source": [
    "# Two-layer hybrid recommender system in retail\n",
    "\n",
    "**Data:** from [Retail X5 Hero Competition](https://retailhero.ai/c/recommender_system/overview)\n",
    "\n",
    "**Stack:**\n",
    "\n",
    "- 1-st layer: NLP, Implicit, ItemItemRecommender, ALS, sklearn, pandas, numpy, matplotlib\n",
    "- 2-nd layer: CatBoost, LightGBM\n",
    "\n"
   ]
  },
  {
   "cell_type": "markdown",
   "id": "97e3891c-3527-4080-bda0-b5b439f03361",
   "metadata": {},
   "source": [
    "**Stages**:\n",
    "\n",
    "1. Prepare data:  prefiltering \n",
    "2. Learn 1-st layer model (this is baseline based on MainRecommender class)\n",
    "3. Choose Top popular\n",
    "4. Choose Top@k Recall\n",
    "5. Add feature engineering for ranking\n",
    "6. Learn 2-nd layer model\n",
    "7. Validate on test.csv"
   ]
  },
  {
   "cell_type": "markdown",
   "id": "2d5bbd6d-0f38-40af-b6c9-9bba7366fea9",
   "metadata": {},
   "source": [
    "## Prepare data"
   ]
  },
  {
   "cell_type": "code",
   "execution_count": null,
   "id": "7b54cd82-afd8-4361-994a-f44c7b8bb7f7",
   "metadata": {},
   "outputs": [],
   "source": []
  }
 ],
 "metadata": {
  "kernelspec": {
   "display_name": "Python 3 (ipykernel)",
   "language": "python",
   "name": "python3"
  },
  "language_info": {
   "codemirror_mode": {
    "name": "ipython",
    "version": 3
   },
   "file_extension": ".py",
   "mimetype": "text/x-python",
   "name": "python",
   "nbconvert_exporter": "python",
   "pygments_lexer": "ipython3",
   "version": "3.9.12"
  }
 },
 "nbformat": 4,
 "nbformat_minor": 5
}
