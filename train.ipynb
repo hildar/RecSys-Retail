{
 "cells": [
  {
   "cell_type": "markdown",
   "id": "839aa2f6-bc19-4c61-b2d7-5bb017b68281",
   "metadata": {
    "tags": []
   },
   "source": [
    "# Two-layer hybrid recommender system in retail\n",
    "\n",
    "**Data:** from [Retail X5 Hero Competition](https://retailhero.ai/c/recommender_system/overview)\n",
    "\n",
    "**Stack:**\n",
    "\n",
    "- 1-st layer: NLP, Implicit, ItemItemRecommender, ALS, sklearn, pandas, numpy, matplotlib\n",
    "- 2-nd layer: CatBoost, LightGBM\n",
    "\n"
   ]
  },
  {
   "cell_type": "markdown",
   "id": "97e3891c-3527-4080-bda0-b5b439f03361",
   "metadata": {},
   "source": [
    "**Stages**:\n",
    "\n",
    "1. Prepare data:  prefiltering \n",
    "2. Learn 1-st layer model (this is baseline based on MainRecommender class)\n",
    "3. Choose Top popular\n",
    "4. Choose Top@k Recall\n",
    "5. Add feature engineering for ranking\n",
    "6. Learn 2-nd layer model\n",
    "7. Validate on test.csv"
   ]
  },
  {
   "cell_type": "markdown",
   "id": "2d5bbd6d-0f38-40af-b6c9-9bba7366fea9",
   "metadata": {},
   "source": [
    "## Prepare data"
   ]
  },
  {
   "cell_type": "markdown",
   "id": "fb287df0-2645-4156-bf55-5b8f149f9d8e",
   "metadata": {},
   "source": [
    "Import necessary libs:"
   ]
  },
  {
   "cell_type": "code",
   "execution_count": 3,
   "id": "65a42ec4-2a67-448f-9630-4c06ee61fcab",
   "metadata": {},
   "outputs": [],
   "source": [
    "import pandas as pd\n",
    "import numpy as np\n",
    "import matplotlib.pyplot as plt\n",
    "%matplotlib inline\n",
    "\n",
    "# Second layer models\n",
    "from lightgbm import LGBMClassifier\n",
    "from catboost import CatBoost\n",
    "\n",
    "# Functions for prefilter, evaluate and baseline\n",
    "from src.utils import prefilter_items\n",
    "from src.metrics import precision_at_k, recall_at_k\n",
    "from src.recommenders import MainRecommender\n",
    "\n",
    "# Ignore some warnings\n",
    "import warnings\n",
    "warnings.filterwarnings('ignore')"
   ]
  },
  {
   "cell_type": "code",
   "execution_count": 2,
   "id": "fdc11827-3e77-46db-bd90-238553401fa3",
   "metadata": {},
   "outputs": [],
   "source": [
    "data = pd.read_csv('data/retail_train.csv')\n",
    "test = pd.read_csv('data/retail_test.csv')\n",
    "item_features = pd.read_csv('data/product.csv')\n",
    "user_features = pd.read_csv('data/hh_demographic.csv')"
   ]
  },
  {
   "cell_type": "markdown",
   "id": "d5a3c2c1-221e-42aa-b39a-e8d4b3b06357",
   "metadata": {},
   "source": [
    "Let's look at data"
   ]
  },
  {
   "cell_type": "code",
   "execution_count": 5,
   "id": "5fe31841-16ce-4ee5-8277-039e8cf8dd92",
   "metadata": {},
   "outputs": [
    {
     "data": {
      "text/html": [
       "<div>\n",
       "<style scoped>\n",
       "    .dataframe tbody tr th:only-of-type {\n",
       "        vertical-align: middle;\n",
       "    }\n",
       "\n",
       "    .dataframe tbody tr th {\n",
       "        vertical-align: top;\n",
       "    }\n",
       "\n",
       "    .dataframe thead th {\n",
       "        text-align: right;\n",
       "    }\n",
       "</style>\n",
       "<table border=\"1\" class=\"dataframe\">\n",
       "  <thead>\n",
       "    <tr style=\"text-align: right;\">\n",
       "      <th></th>\n",
       "      <th>user_id</th>\n",
       "      <th>basket_id</th>\n",
       "      <th>day</th>\n",
       "      <th>item_id</th>\n",
       "      <th>quantity</th>\n",
       "      <th>sales_value</th>\n",
       "      <th>store_id</th>\n",
       "      <th>retail_disc</th>\n",
       "      <th>trans_time</th>\n",
       "      <th>week_no</th>\n",
       "      <th>coupon_disc</th>\n",
       "      <th>coupon_match_disc</th>\n",
       "    </tr>\n",
       "  </thead>\n",
       "  <tbody>\n",
       "    <tr>\n",
       "      <th>0</th>\n",
       "      <td>2375</td>\n",
       "      <td>26984851472</td>\n",
       "      <td>1</td>\n",
       "      <td>1004906</td>\n",
       "      <td>1</td>\n",
       "      <td>1.39</td>\n",
       "      <td>364</td>\n",
       "      <td>-0.6</td>\n",
       "      <td>1631</td>\n",
       "      <td>1</td>\n",
       "      <td>0.0</td>\n",
       "      <td>0.0</td>\n",
       "    </tr>\n",
       "    <tr>\n",
       "      <th>1</th>\n",
       "      <td>2375</td>\n",
       "      <td>26984851472</td>\n",
       "      <td>1</td>\n",
       "      <td>1033142</td>\n",
       "      <td>1</td>\n",
       "      <td>0.82</td>\n",
       "      <td>364</td>\n",
       "      <td>0.0</td>\n",
       "      <td>1631</td>\n",
       "      <td>1</td>\n",
       "      <td>0.0</td>\n",
       "      <td>0.0</td>\n",
       "    </tr>\n",
       "  </tbody>\n",
       "</table>\n",
       "</div>"
      ],
      "text/plain": [
       "   user_id    basket_id  day  item_id  quantity  sales_value  store_id  \\\n",
       "0     2375  26984851472    1  1004906         1         1.39       364   \n",
       "1     2375  26984851472    1  1033142         1         0.82       364   \n",
       "\n",
       "   retail_disc  trans_time  week_no  coupon_disc  coupon_match_disc  \n",
       "0         -0.6        1631        1          0.0                0.0  \n",
       "1          0.0        1631        1          0.0                0.0  "
      ]
     },
     "execution_count": 5,
     "metadata": {},
     "output_type": "execute_result"
    }
   ],
   "source": [
    "data.head(2)"
   ]
  },
  {
   "cell_type": "code",
   "execution_count": 6,
   "id": "5d476b80-a183-4917-a066-dfcb5fd50459",
   "metadata": {},
   "outputs": [
    {
     "data": {
      "text/html": [
       "<div>\n",
       "<style scoped>\n",
       "    .dataframe tbody tr th:only-of-type {\n",
       "        vertical-align: middle;\n",
       "    }\n",
       "\n",
       "    .dataframe tbody tr th {\n",
       "        vertical-align: top;\n",
       "    }\n",
       "\n",
       "    .dataframe thead th {\n",
       "        text-align: right;\n",
       "    }\n",
       "</style>\n",
       "<table border=\"1\" class=\"dataframe\">\n",
       "  <thead>\n",
       "    <tr style=\"text-align: right;\">\n",
       "      <th></th>\n",
       "      <th>user_id</th>\n",
       "      <th>basket_id</th>\n",
       "      <th>day</th>\n",
       "      <th>item_id</th>\n",
       "      <th>quantity</th>\n",
       "      <th>sales_value</th>\n",
       "      <th>store_id</th>\n",
       "      <th>retail_disc</th>\n",
       "      <th>trans_time</th>\n",
       "      <th>week_no</th>\n",
       "      <th>coupon_disc</th>\n",
       "      <th>coupon_match_disc</th>\n",
       "    </tr>\n",
       "  </thead>\n",
       "  <tbody>\n",
       "    <tr>\n",
       "      <th>0</th>\n",
       "      <td>1340</td>\n",
       "      <td>41652823310</td>\n",
       "      <td>664</td>\n",
       "      <td>912987</td>\n",
       "      <td>1</td>\n",
       "      <td>8.49</td>\n",
       "      <td>446</td>\n",
       "      <td>0.0</td>\n",
       "      <td>52</td>\n",
       "      <td>96</td>\n",
       "      <td>0.0</td>\n",
       "      <td>0.0</td>\n",
       "    </tr>\n",
       "    <tr>\n",
       "      <th>1</th>\n",
       "      <td>588</td>\n",
       "      <td>41652838477</td>\n",
       "      <td>664</td>\n",
       "      <td>1024426</td>\n",
       "      <td>1</td>\n",
       "      <td>6.29</td>\n",
       "      <td>388</td>\n",
       "      <td>0.0</td>\n",
       "      <td>8</td>\n",
       "      <td>96</td>\n",
       "      <td>0.0</td>\n",
       "      <td>0.0</td>\n",
       "    </tr>\n",
       "  </tbody>\n",
       "</table>\n",
       "</div>"
      ],
      "text/plain": [
       "   user_id    basket_id  day  item_id  quantity  sales_value  store_id  \\\n",
       "0     1340  41652823310  664   912987         1         8.49       446   \n",
       "1      588  41652838477  664  1024426         1         6.29       388   \n",
       "\n",
       "   retail_disc  trans_time  week_no  coupon_disc  coupon_match_disc  \n",
       "0          0.0          52       96          0.0                0.0  \n",
       "1          0.0           8       96          0.0                0.0  "
      ]
     },
     "execution_count": 6,
     "metadata": {},
     "output_type": "execute_result"
    }
   ],
   "source": [
    "test.head(2)"
   ]
  },
  {
   "cell_type": "code",
   "execution_count": 7,
   "id": "4e1a81ee-d6d3-46d8-9786-98ac01c8a777",
   "metadata": {},
   "outputs": [
    {
     "data": {
      "text/html": [
       "<div>\n",
       "<style scoped>\n",
       "    .dataframe tbody tr th:only-of-type {\n",
       "        vertical-align: middle;\n",
       "    }\n",
       "\n",
       "    .dataframe tbody tr th {\n",
       "        vertical-align: top;\n",
       "    }\n",
       "\n",
       "    .dataframe thead th {\n",
       "        text-align: right;\n",
       "    }\n",
       "</style>\n",
       "<table border=\"1\" class=\"dataframe\">\n",
       "  <thead>\n",
       "    <tr style=\"text-align: right;\">\n",
       "      <th></th>\n",
       "      <th>PRODUCT_ID</th>\n",
       "      <th>MANUFACTURER</th>\n",
       "      <th>DEPARTMENT</th>\n",
       "      <th>BRAND</th>\n",
       "      <th>COMMODITY_DESC</th>\n",
       "      <th>SUB_COMMODITY_DESC</th>\n",
       "      <th>CURR_SIZE_OF_PRODUCT</th>\n",
       "    </tr>\n",
       "  </thead>\n",
       "  <tbody>\n",
       "    <tr>\n",
       "      <th>0</th>\n",
       "      <td>25671</td>\n",
       "      <td>2</td>\n",
       "      <td>GROCERY</td>\n",
       "      <td>National</td>\n",
       "      <td>FRZN ICE</td>\n",
       "      <td>ICE - CRUSHED/CUBED</td>\n",
       "      <td>22 LB</td>\n",
       "    </tr>\n",
       "    <tr>\n",
       "      <th>1</th>\n",
       "      <td>26081</td>\n",
       "      <td>2</td>\n",
       "      <td>MISC. TRANS.</td>\n",
       "      <td>National</td>\n",
       "      <td>NO COMMODITY DESCRIPTION</td>\n",
       "      <td>NO SUBCOMMODITY DESCRIPTION</td>\n",
       "      <td></td>\n",
       "    </tr>\n",
       "  </tbody>\n",
       "</table>\n",
       "</div>"
      ],
      "text/plain": [
       "   PRODUCT_ID  MANUFACTURER    DEPARTMENT     BRAND            COMMODITY_DESC  \\\n",
       "0       25671             2       GROCERY  National                  FRZN ICE   \n",
       "1       26081             2  MISC. TRANS.  National  NO COMMODITY DESCRIPTION   \n",
       "\n",
       "            SUB_COMMODITY_DESC CURR_SIZE_OF_PRODUCT  \n",
       "0          ICE - CRUSHED/CUBED                22 LB  \n",
       "1  NO SUBCOMMODITY DESCRIPTION                       "
      ]
     },
     "execution_count": 7,
     "metadata": {},
     "output_type": "execute_result"
    }
   ],
   "source": [
    "item_features.head(2)"
   ]
  },
  {
   "cell_type": "code",
   "execution_count": 8,
   "id": "5d81b446-eaf7-495f-9633-ac875d1842c9",
   "metadata": {},
   "outputs": [
    {
     "data": {
      "text/html": [
       "<div>\n",
       "<style scoped>\n",
       "    .dataframe tbody tr th:only-of-type {\n",
       "        vertical-align: middle;\n",
       "    }\n",
       "\n",
       "    .dataframe tbody tr th {\n",
       "        vertical-align: top;\n",
       "    }\n",
       "\n",
       "    .dataframe thead th {\n",
       "        text-align: right;\n",
       "    }\n",
       "</style>\n",
       "<table border=\"1\" class=\"dataframe\">\n",
       "  <thead>\n",
       "    <tr style=\"text-align: right;\">\n",
       "      <th></th>\n",
       "      <th>AGE_DESC</th>\n",
       "      <th>MARITAL_STATUS_CODE</th>\n",
       "      <th>INCOME_DESC</th>\n",
       "      <th>HOMEOWNER_DESC</th>\n",
       "      <th>HH_COMP_DESC</th>\n",
       "      <th>HOUSEHOLD_SIZE_DESC</th>\n",
       "      <th>KID_CATEGORY_DESC</th>\n",
       "      <th>household_key</th>\n",
       "    </tr>\n",
       "  </thead>\n",
       "  <tbody>\n",
       "    <tr>\n",
       "      <th>0</th>\n",
       "      <td>65+</td>\n",
       "      <td>A</td>\n",
       "      <td>35-49K</td>\n",
       "      <td>Homeowner</td>\n",
       "      <td>2 Adults No Kids</td>\n",
       "      <td>2</td>\n",
       "      <td>None/Unknown</td>\n",
       "      <td>1</td>\n",
       "    </tr>\n",
       "    <tr>\n",
       "      <th>1</th>\n",
       "      <td>45-54</td>\n",
       "      <td>A</td>\n",
       "      <td>50-74K</td>\n",
       "      <td>Homeowner</td>\n",
       "      <td>2 Adults No Kids</td>\n",
       "      <td>2</td>\n",
       "      <td>None/Unknown</td>\n",
       "      <td>7</td>\n",
       "    </tr>\n",
       "  </tbody>\n",
       "</table>\n",
       "</div>"
      ],
      "text/plain": [
       "  AGE_DESC MARITAL_STATUS_CODE INCOME_DESC HOMEOWNER_DESC      HH_COMP_DESC  \\\n",
       "0      65+                   A      35-49K      Homeowner  2 Adults No Kids   \n",
       "1    45-54                   A      50-74K      Homeowner  2 Adults No Kids   \n",
       "\n",
       "  HOUSEHOLD_SIZE_DESC KID_CATEGORY_DESC  household_key  \n",
       "0                   2      None/Unknown              1  \n",
       "1                   2      None/Unknown              7  "
      ]
     },
     "execution_count": 8,
     "metadata": {},
     "output_type": "execute_result"
    }
   ],
   "source": [
    "user_features.head(2)"
   ]
  },
  {
   "cell_type": "code",
   "execution_count": 27,
   "id": "27441053-92db-46c8-ae92-b6946684099a",
   "metadata": {},
   "outputs": [
    {
     "name": "stdout",
     "output_type": "stream",
     "text": [
      "<class 'pandas.core.frame.DataFrame'>\n",
      "RangeIndex: 2396804 entries, 0 to 2396803\n",
      "Data columns (total 12 columns):\n",
      " #   Column             Dtype  \n",
      "---  ------             -----  \n",
      " 0   user_id            int64  \n",
      " 1   basket_id          int64  \n",
      " 2   day                int64  \n",
      " 3   item_id            int64  \n",
      " 4   quantity           int64  \n",
      " 5   sales_value        float64\n",
      " 6   store_id           int64  \n",
      " 7   retail_disc        float64\n",
      " 8   trans_time         int64  \n",
      " 9   week_no            int64  \n",
      " 10  coupon_disc        float64\n",
      " 11  coupon_match_disc  float64\n",
      "dtypes: float64(4), int64(8)\n",
      "memory usage: 219.4 MB\n"
     ]
    }
   ],
   "source": [
    "data.info()"
   ]
  },
  {
   "cell_type": "code",
   "execution_count": 26,
   "id": "746f0640-46f3-4611-8cfa-e48e26617c67",
   "metadata": {},
   "outputs": [
    {
     "name": "stdout",
     "output_type": "stream",
     "text": [
      "<class 'pandas.core.frame.DataFrame'>\n",
      "RangeIndex: 88734 entries, 0 to 88733\n",
      "Data columns (total 12 columns):\n",
      " #   Column             Non-Null Count  Dtype  \n",
      "---  ------             --------------  -----  \n",
      " 0   user_id            88734 non-null  int64  \n",
      " 1   basket_id          88734 non-null  int64  \n",
      " 2   day                88734 non-null  int64  \n",
      " 3   item_id            88734 non-null  int64  \n",
      " 4   quantity           88734 non-null  int64  \n",
      " 5   sales_value        88734 non-null  float64\n",
      " 6   store_id           88734 non-null  int64  \n",
      " 7   retail_disc        88734 non-null  float64\n",
      " 8   trans_time         88734 non-null  int64  \n",
      " 9   week_no            88734 non-null  int64  \n",
      " 10  coupon_disc        88734 non-null  float64\n",
      " 11  coupon_match_disc  88734 non-null  float64\n",
      "dtypes: float64(4), int64(8)\n",
      "memory usage: 8.1 MB\n"
     ]
    }
   ],
   "source": [
    "test.info()"
   ]
  },
  {
   "cell_type": "code",
   "execution_count": 28,
   "id": "fc9f8853-81bb-4276-9d0d-61ebf32bf099",
   "metadata": {},
   "outputs": [
    {
     "name": "stdout",
     "output_type": "stream",
     "text": [
      "<class 'pandas.core.frame.DataFrame'>\n",
      "RangeIndex: 92353 entries, 0 to 92352\n",
      "Data columns (total 7 columns):\n",
      " #   Column                Non-Null Count  Dtype \n",
      "---  ------                --------------  ----- \n",
      " 0   item_id               92353 non-null  int64 \n",
      " 1   manufacturer          92353 non-null  int64 \n",
      " 2   department            92353 non-null  object\n",
      " 3   brand                 92353 non-null  object\n",
      " 4   commodity_desc        92353 non-null  object\n",
      " 5   sub_commodity_desc    92353 non-null  object\n",
      " 6   curr_size_of_product  92353 non-null  object\n",
      "dtypes: int64(2), object(5)\n",
      "memory usage: 4.9+ MB\n"
     ]
    }
   ],
   "source": [
    "item_features.info()"
   ]
  },
  {
   "cell_type": "code",
   "execution_count": 29,
   "id": "b8c79870-84f2-4470-925d-e0686fe678d1",
   "metadata": {},
   "outputs": [
    {
     "name": "stdout",
     "output_type": "stream",
     "text": [
      "<class 'pandas.core.frame.DataFrame'>\n",
      "RangeIndex: 801 entries, 0 to 800\n",
      "Data columns (total 8 columns):\n",
      " #   Column               Non-Null Count  Dtype \n",
      "---  ------               --------------  ----- \n",
      " 0   age_desc             801 non-null    object\n",
      " 1   marital_status_code  801 non-null    object\n",
      " 2   income_desc          801 non-null    object\n",
      " 3   homeowner_desc       801 non-null    object\n",
      " 4   hh_comp_desc         801 non-null    object\n",
      " 5   household_size_desc  801 non-null    object\n",
      " 6   kid_category_desc    801 non-null    object\n",
      " 7   user_id              801 non-null    int64 \n",
      "dtypes: int64(1), object(7)\n",
      "memory usage: 50.2+ KB\n"
     ]
    }
   ],
   "source": [
    "user_features.info()"
   ]
  },
  {
   "cell_type": "code",
   "execution_count": 20,
   "id": "8c8114aa-8ee5-493a-ac16-e9439c8df5c1",
   "metadata": {},
   "outputs": [],
   "source": [
    "def print_stats_data(df_data, name_df):\n",
    "    print(f'{name_df}:')\n",
    "    print(f\"Shape: {df_data.shape} Users: {df_data['user_id'].nunique()} Items: {df_data['item_id'].nunique()}\\n\")"
   ]
  },
  {
   "cell_type": "code",
   "execution_count": 22,
   "id": "904cadca-4fc8-4635-879a-73bf240222fb",
   "metadata": {},
   "outputs": [
    {
     "name": "stdout",
     "output_type": "stream",
     "text": [
      "data:\n",
      "Shape: (2396804, 12) Users: 2499 Items: 89051\n",
      "\n",
      "test:\n",
      "Shape: (88734, 12) Users: 1885 Items: 20497\n",
      "\n"
     ]
    }
   ],
   "source": [
    "print_stats_data(data, 'data')\n",
    "print_stats_data(test, 'test')"
   ]
  },
  {
   "cell_type": "markdown",
   "id": "871aacb5-63cc-472d-91f3-f8827b70b990",
   "metadata": {},
   "source": [
    "Prepare columns feature datasets"
   ]
  },
  {
   "cell_type": "code",
   "execution_count": 12,
   "id": "0193a79a-a569-4ca6-8092-d5e29324bcff",
   "metadata": {},
   "outputs": [],
   "source": [
    "# column processing\n",
    "item_features.columns = [col.lower() for col in item_features.columns]\n",
    "user_features.columns = [col.lower() for col in user_features.columns]\n",
    "\n",
    "item_features.rename(columns={'product_id': 'item_id'}, inplace=True)\n",
    "user_features.rename(columns={'household_key': 'user_id' }, inplace=True)"
   ]
  },
  {
   "cell_type": "markdown",
   "id": "027b555e-7c2e-4819-8d97-acb67fc7ac2e",
   "metadata": {},
   "source": [
    "### Split dataset for train, eval and test"
   ]
  },
  {
   "cell_type": "code",
   "execution_count": 17,
   "id": "02a5cae4-4dc8-4ad8-8070-719430abeb81",
   "metadata": {},
   "outputs": [],
   "source": [
    "# timeline for train:  -- old purchases -- | -- 6 weeks -- \n",
    "\n",
    "VAL_MATCHER_WEEKS = 6"
   ]
  },
  {
   "cell_type": "code",
   "execution_count": 23,
   "id": "028f2fc1-6f71-48de-9204-54542658202b",
   "metadata": {},
   "outputs": [],
   "source": [
    "# data for train 1-st layer model (matching)     -- old purchases --\n",
    "data_train_matcher = data[data['week_no'] < data['week_no'].max() - VAL_MATCHER_WEEKS]\n",
    "\n",
    "# data for validate 1-st layer model (matching)  -- 6 weeks --\n",
    "data_val_matcher = data[data['week_no'] >= data['week_no'].max() - VAL_MATCHER_WEEKS]\n",
    "\n",
    "# data for train 2-nd layer model (ranking)      -- 6 weeks --\n",
    "data_train_ranker = data_val_matcher.copy()\n",
    "\n",
    "# data for validate 2-nd layer model (ranking)   -- test data --\n",
    "data_val_ranker = test.copy()"
   ]
  },
  {
   "cell_type": "code",
   "execution_count": 24,
   "id": "33b8ee44-82d0-46c6-98dc-5ca80dfcbf93",
   "metadata": {},
   "outputs": [
    {
     "name": "stdout",
     "output_type": "stream",
     "text": [
      "train_matcher:\n",
      "Shape: (2193515, 12) Users: 2499 Items: 85334\n",
      "\n",
      "val_matcher:\n",
      "Shape: (203289, 12) Users: 2197 Items: 30040\n",
      "\n",
      "train_ranker:\n",
      "Shape: (203289, 12) Users: 2197 Items: 30040\n",
      "\n",
      "val_ranker:\n",
      "Shape: (88734, 12) Users: 1885 Items: 20497\n",
      "\n"
     ]
    }
   ],
   "source": [
    "print_stats_data(data_train_matcher,'train_matcher')\n",
    "print_stats_data(data_val_matcher,'val_matcher')\n",
    "print_stats_data(data_train_ranker,'train_ranker')\n",
    "print_stats_data(data_val_ranker,'val_ranker')"
   ]
  },
  {
   "cell_type": "markdown",
   "id": "12a849e0-63f9-4a10-91a1-6944b5202d80",
   "metadata": {},
   "source": [
    "Here is dispertion of users and items. In this case we won't use \"Cold Start\" and fix it below. But for \"Cold Start\" may use top popular items as base case from baseline."
   ]
  },
  {
   "cell_type": "markdown",
   "id": "4e67e507-eda4-45a4-ba11-97628109f540",
   "metadata": {
    "tags": []
   },
   "source": [
    "### Prefinter data_train_matcher"
   ]
  },
  {
   "cell_type": "markdown",
   "id": "d01508b0-35b4-48c6-84b2-0459b27a5932",
   "metadata": {},
   "source": [
    "For begin we will take 5000 popular items. But later we try select better decision."
   ]
  },
  {
   "cell_type": "code",
   "execution_count": 30,
   "id": "467a5421-d54b-4bdd-9c35-fb89e47996d4",
   "metadata": {},
   "outputs": [
    {
     "name": "stdout",
     "output_type": "stream",
     "text": [
      "Decreased # items from 85334 to 5001\n"
     ]
    }
   ],
   "source": [
    "n_items_before = data_train_matcher['item_id'].nunique()\n",
    "\n",
    "data_train_matcher = prefilter_items(data_train_matcher, item_features=item_features, take_n_popular=5000)\n",
    "\n",
    "n_items_after = data_train_matcher['item_id'].nunique()\n",
    "print('Decreased # items from {} to {}'.format(n_items_before, n_items_after))"
   ]
  },
  {
   "cell_type": "markdown",
   "id": "63f853f4-9949-4de9-8ec8-902277632f8e",
   "metadata": {},
   "source": []
  }
 ],
 "metadata": {
  "kernelspec": {
   "display_name": "Python 3 (ipykernel)",
   "language": "python",
   "name": "python3"
  },
  "language_info": {
   "codemirror_mode": {
    "name": "ipython",
    "version": 3
   },
   "file_extension": ".py",
   "mimetype": "text/x-python",
   "name": "python",
   "nbconvert_exporter": "python",
   "pygments_lexer": "ipython3",
   "version": "3.9.12"
  }
 },
 "nbformat": 4,
 "nbformat_minor": 5
}
